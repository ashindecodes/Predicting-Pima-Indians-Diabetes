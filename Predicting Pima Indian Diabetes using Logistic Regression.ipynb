{
 "cells": [
  {
   "cell_type": "code",
   "execution_count": 1,
   "metadata": {},
   "outputs": [],
   "source": [
    "import pandas as pd\n",
    "import numpy as np\n",
    "import matplotlib.pyplot as plt\n",
    "import seaborn as sns\n",
    "import warnings\n",
    "from sklearn import metrics\n",
    "warnings.filterwarnings(\"ignore\")"
   ]
  },
  {
   "cell_type": "code",
   "execution_count": 3,
   "metadata": {},
   "outputs": [],
   "source": [
    "data = pd.read_csv('diabetes.csv')"
   ]
  },
  {
   "cell_type": "code",
   "execution_count": 4,
   "metadata": {},
   "outputs": [
    {
     "data": {
      "text/html": [
       "<div>\n",
       "<style scoped>\n",
       "    .dataframe tbody tr th:only-of-type {\n",
       "        vertical-align: middle;\n",
       "    }\n",
       "\n",
       "    .dataframe tbody tr th {\n",
       "        vertical-align: top;\n",
       "    }\n",
       "\n",
       "    .dataframe thead th {\n",
       "        text-align: right;\n",
       "    }\n",
       "</style>\n",
       "<table border=\"1\" class=\"dataframe\">\n",
       "  <thead>\n",
       "    <tr style=\"text-align: right;\">\n",
       "      <th></th>\n",
       "      <th>Pregnancies</th>\n",
       "      <th>Glucose</th>\n",
       "      <th>BloodPressure</th>\n",
       "      <th>SkinThickness</th>\n",
       "      <th>Insulin</th>\n",
       "      <th>BMI</th>\n",
       "      <th>DiabetesPedigreeFunction</th>\n",
       "      <th>Age</th>\n",
       "      <th>Outcome</th>\n",
       "    </tr>\n",
       "  </thead>\n",
       "  <tbody>\n",
       "    <tr>\n",
       "      <th>0</th>\n",
       "      <td>6</td>\n",
       "      <td>148</td>\n",
       "      <td>72</td>\n",
       "      <td>35</td>\n",
       "      <td>0</td>\n",
       "      <td>33.6</td>\n",
       "      <td>0.627</td>\n",
       "      <td>50</td>\n",
       "      <td>1</td>\n",
       "    </tr>\n",
       "    <tr>\n",
       "      <th>1</th>\n",
       "      <td>1</td>\n",
       "      <td>85</td>\n",
       "      <td>66</td>\n",
       "      <td>29</td>\n",
       "      <td>0</td>\n",
       "      <td>26.6</td>\n",
       "      <td>0.351</td>\n",
       "      <td>31</td>\n",
       "      <td>0</td>\n",
       "    </tr>\n",
       "    <tr>\n",
       "      <th>2</th>\n",
       "      <td>8</td>\n",
       "      <td>183</td>\n",
       "      <td>64</td>\n",
       "      <td>0</td>\n",
       "      <td>0</td>\n",
       "      <td>23.3</td>\n",
       "      <td>0.672</td>\n",
       "      <td>32</td>\n",
       "      <td>1</td>\n",
       "    </tr>\n",
       "    <tr>\n",
       "      <th>3</th>\n",
       "      <td>1</td>\n",
       "      <td>89</td>\n",
       "      <td>66</td>\n",
       "      <td>23</td>\n",
       "      <td>94</td>\n",
       "      <td>28.1</td>\n",
       "      <td>0.167</td>\n",
       "      <td>21</td>\n",
       "      <td>0</td>\n",
       "    </tr>\n",
       "    <tr>\n",
       "      <th>4</th>\n",
       "      <td>0</td>\n",
       "      <td>137</td>\n",
       "      <td>40</td>\n",
       "      <td>35</td>\n",
       "      <td>168</td>\n",
       "      <td>43.1</td>\n",
       "      <td>2.288</td>\n",
       "      <td>33</td>\n",
       "      <td>1</td>\n",
       "    </tr>\n",
       "  </tbody>\n",
       "</table>\n",
       "</div>"
      ],
      "text/plain": [
       "   Pregnancies  Glucose  BloodPressure  SkinThickness  Insulin   BMI  \\\n",
       "0            6      148             72             35        0  33.6   \n",
       "1            1       85             66             29        0  26.6   \n",
       "2            8      183             64              0        0  23.3   \n",
       "3            1       89             66             23       94  28.1   \n",
       "4            0      137             40             35      168  43.1   \n",
       "\n",
       "   DiabetesPedigreeFunction  Age  Outcome  \n",
       "0                     0.627   50        1  \n",
       "1                     0.351   31        0  \n",
       "2                     0.672   32        1  \n",
       "3                     0.167   21        0  \n",
       "4                     2.288   33        1  "
      ]
     },
     "execution_count": 4,
     "metadata": {},
     "output_type": "execute_result"
    }
   ],
   "source": [
    "data.head()"
   ]
  },
  {
   "cell_type": "code",
   "execution_count": null,
   "metadata": {},
   "outputs": [],
   "source": [
    "'Pregnancies' - Number of times pregnant\n",
    "'Glucose' - Plasma glucose concentration a 2 hours in an oral glucose tolerance test\n",
    "'BloodPressure' - Diastolic blood pressure (mm Hg)\n",
    "'SkinThickness' - Triceps skin fold thickness (mm)\n",
    "'Insulin' - 2-Hour serum insulin (mu U/ml)\n",
    "'BMI' - Body mass index (weight in kg/(height in m)^2)\n",
    "'DiabetesPedigreeFunction' - Diabetes pedigree function\n",
    "'Age' - Age (years) (21+)\n",
    "'Outcome' - Class variable (0 or 1) 268 of 768 are 1, the others are 0"
   ]
  },
  {
   "cell_type": "code",
   "execution_count": 5,
   "metadata": {},
   "outputs": [],
   "source": [
    "X = data[['Pregnancies', 'Glucose', 'BloodPressure', 'SkinThickness', 'Insulin',\n",
    "       'BMI', 'DiabetesPedigreeFunction', 'Age']]\n",
    "y = data['Outcome']"
   ]
  },
  {
   "cell_type": "markdown",
   "metadata": {},
   "source": [
    "# Data Preprocessing - Imputing Mean Values"
   ]
  },
  {
   "cell_type": "code",
   "execution_count": 6,
   "metadata": {},
   "outputs": [
    {
     "name": "stdout",
     "output_type": "stream",
     "text": [
      "number of rows in glucose_conc variable having 0 value: 5\n",
      "number of rows in BP variable having 0 value: 35\n",
      "number of rows in insulin variable having 0 value: 374\n",
      "number of rows in bmi variable having 0 value: 11\n",
      "number of rows in diab_pred variable having 0 value: 0\n",
      "number of rows in age variable having 0 value: 0\n",
      "number of rows in skin variable having 0 value: 227\n"
     ]
    }
   ],
   "source": [
    "print(\"number of rows in glucose_conc variable having 0 value: {0}\".format(len(X.loc[X['Glucose'] == 0])))\n",
    "print(\"number of rows in BP variable having 0 value: {0}\".format(len(X.loc[X['BloodPressure'] == 0])))\n",
    "print(\"number of rows in insulin variable having 0 value: {0}\".format(len(X.loc[X['Insulin'] == 0])))\n",
    "print(\"number of rows in bmi variable having 0 value: {0}\".format(len(X.loc[X['BMI'] == 0])))\n",
    "print(\"number of rows in diab_pred variable having 0 value: {0}\".format(len(X.loc[X['DiabetesPedigreeFunction'] == 0])))\n",
    "print(\"number of rows in age variable having 0 value: {0}\".format(len(X.loc[X['Age'] == 0])))\n",
    "print(\"number of rows in skin variable having 0 value: {0}\".format(len(X.loc[X['SkinThickness'] == 0])))"
   ]
  },
  {
   "cell_type": "code",
   "execution_count": 7,
   "metadata": {},
   "outputs": [],
   "source": [
    "from sklearn.impute import SimpleImputer \n",
    "\n",
    "imputer=SimpleImputer(missing_values=0, strategy='mean')\n",
    "\n",
    "imputer=imputer.fit(X)\n",
    "X=imputer.transform(X)"
   ]
  },
  {
   "cell_type": "code",
   "execution_count": 8,
   "metadata": {},
   "outputs": [],
   "source": [
    "X = pd.DataFrame({'Pregnancies': X[:, 0],'Glucose': X[:, 1], 'BloodPressure': X[:, 2], 'SkinThickness': X[:, 3], 'Insulin': X[:, 4],\n",
    "       'BMI': X[:, 5], 'DiabetesPedigreeFunction': X[:, 6], 'Age': X[:, 7]})"
   ]
  },
  {
   "cell_type": "code",
   "execution_count": 9,
   "metadata": {},
   "outputs": [
    {
     "name": "stdout",
     "output_type": "stream",
     "text": [
      "number of rows in glucose_conc variable having 0 value: 0\n",
      "number of rows in BP variable having 0 value: 0\n",
      "number of rows in insulin variable having 0 value: 0\n",
      "number of rows in bmi variable having 0 value: 0\n",
      "number of rows in diab_pred variable having 0 value: 0\n",
      "number of rows in age variable having 0 value: 0\n",
      "number of rows in skin variable having 0 value: 0\n"
     ]
    }
   ],
   "source": [
    "print(\"number of rows in glucose_conc variable having 0 value: {0}\".format(len(X.loc[X['Glucose'] == 0])))\n",
    "print(\"number of rows in BP variable having 0 value: {0}\".format(len(X.loc[X['BloodPressure'] == 0])))\n",
    "print(\"number of rows in insulin variable having 0 value: {0}\".format(len(X.loc[X['Insulin'] == 0])))\n",
    "print(\"number of rows in bmi variable having 0 value: {0}\".format(len(X.loc[X['BMI'] == 0])))\n",
    "print(\"number of rows in diab_pred variable having 0 value: {0}\".format(len(X.loc[X['DiabetesPedigreeFunction'] == 0])))\n",
    "print(\"number of rows in age variable having 0 value: {0}\".format(len(X.loc[X['Age'] == 0])))\n",
    "print(\"number of rows in skin variable having 0 value: {0}\".format(len(X.loc[X['SkinThickness'] == 0])))"
   ]
  },
  {
   "cell_type": "code",
   "execution_count": 170,
   "metadata": {},
   "outputs": [
    {
     "data": {
      "text/html": [
       "<div>\n",
       "<style scoped>\n",
       "    .dataframe tbody tr th:only-of-type {\n",
       "        vertical-align: middle;\n",
       "    }\n",
       "\n",
       "    .dataframe tbody tr th {\n",
       "        vertical-align: top;\n",
       "    }\n",
       "\n",
       "    .dataframe thead th {\n",
       "        text-align: right;\n",
       "    }\n",
       "</style>\n",
       "<table border=\"1\" class=\"dataframe\">\n",
       "  <thead>\n",
       "    <tr style=\"text-align: right;\">\n",
       "      <th></th>\n",
       "      <th>Pregnancies</th>\n",
       "      <th>Glucose</th>\n",
       "      <th>BloodPressure</th>\n",
       "      <th>SkinThickness</th>\n",
       "      <th>Insulin</th>\n",
       "      <th>BMI</th>\n",
       "      <th>DiabetesPedigreeFunction</th>\n",
       "      <th>Age</th>\n",
       "    </tr>\n",
       "  </thead>\n",
       "  <tbody>\n",
       "    <tr>\n",
       "      <th>count</th>\n",
       "      <td>768.000000</td>\n",
       "      <td>768.000000</td>\n",
       "      <td>768.000000</td>\n",
       "      <td>768.000000</td>\n",
       "      <td>768.000000</td>\n",
       "      <td>768.000000</td>\n",
       "      <td>768.000000</td>\n",
       "      <td>768.000000</td>\n",
       "    </tr>\n",
       "    <tr>\n",
       "      <th>mean</th>\n",
       "      <td>4.494673</td>\n",
       "      <td>121.686763</td>\n",
       "      <td>72.405184</td>\n",
       "      <td>29.153420</td>\n",
       "      <td>155.548223</td>\n",
       "      <td>32.457464</td>\n",
       "      <td>0.471876</td>\n",
       "      <td>33.240885</td>\n",
       "    </tr>\n",
       "    <tr>\n",
       "      <th>std</th>\n",
       "      <td>2.975395</td>\n",
       "      <td>30.435949</td>\n",
       "      <td>12.096346</td>\n",
       "      <td>8.790942</td>\n",
       "      <td>85.021108</td>\n",
       "      <td>6.875151</td>\n",
       "      <td>0.331329</td>\n",
       "      <td>11.760232</td>\n",
       "    </tr>\n",
       "    <tr>\n",
       "      <th>min</th>\n",
       "      <td>1.000000</td>\n",
       "      <td>44.000000</td>\n",
       "      <td>24.000000</td>\n",
       "      <td>7.000000</td>\n",
       "      <td>14.000000</td>\n",
       "      <td>18.200000</td>\n",
       "      <td>0.078000</td>\n",
       "      <td>21.000000</td>\n",
       "    </tr>\n",
       "    <tr>\n",
       "      <th>25%</th>\n",
       "      <td>2.000000</td>\n",
       "      <td>99.750000</td>\n",
       "      <td>64.000000</td>\n",
       "      <td>25.000000</td>\n",
       "      <td>121.500000</td>\n",
       "      <td>27.500000</td>\n",
       "      <td>0.243750</td>\n",
       "      <td>24.000000</td>\n",
       "    </tr>\n",
       "    <tr>\n",
       "      <th>50%</th>\n",
       "      <td>4.494673</td>\n",
       "      <td>117.000000</td>\n",
       "      <td>72.202592</td>\n",
       "      <td>29.153420</td>\n",
       "      <td>155.548223</td>\n",
       "      <td>32.400000</td>\n",
       "      <td>0.372500</td>\n",
       "      <td>29.000000</td>\n",
       "    </tr>\n",
       "    <tr>\n",
       "      <th>75%</th>\n",
       "      <td>6.000000</td>\n",
       "      <td>140.250000</td>\n",
       "      <td>80.000000</td>\n",
       "      <td>32.000000</td>\n",
       "      <td>155.548223</td>\n",
       "      <td>36.600000</td>\n",
       "      <td>0.626250</td>\n",
       "      <td>41.000000</td>\n",
       "    </tr>\n",
       "    <tr>\n",
       "      <th>max</th>\n",
       "      <td>17.000000</td>\n",
       "      <td>199.000000</td>\n",
       "      <td>122.000000</td>\n",
       "      <td>99.000000</td>\n",
       "      <td>846.000000</td>\n",
       "      <td>67.100000</td>\n",
       "      <td>2.420000</td>\n",
       "      <td>81.000000</td>\n",
       "    </tr>\n",
       "  </tbody>\n",
       "</table>\n",
       "</div>"
      ],
      "text/plain": [
       "       Pregnancies     Glucose  BloodPressure  SkinThickness     Insulin  \\\n",
       "count   768.000000  768.000000     768.000000     768.000000  768.000000   \n",
       "mean      4.494673  121.686763      72.405184      29.153420  155.548223   \n",
       "std       2.975395   30.435949      12.096346       8.790942   85.021108   \n",
       "min       1.000000   44.000000      24.000000       7.000000   14.000000   \n",
       "25%       2.000000   99.750000      64.000000      25.000000  121.500000   \n",
       "50%       4.494673  117.000000      72.202592      29.153420  155.548223   \n",
       "75%       6.000000  140.250000      80.000000      32.000000  155.548223   \n",
       "max      17.000000  199.000000     122.000000      99.000000  846.000000   \n",
       "\n",
       "              BMI  DiabetesPedigreeFunction         Age  \n",
       "count  768.000000                768.000000  768.000000  \n",
       "mean    32.457464                  0.471876   33.240885  \n",
       "std      6.875151                  0.331329   11.760232  \n",
       "min     18.200000                  0.078000   21.000000  \n",
       "25%     27.500000                  0.243750   24.000000  \n",
       "50%     32.400000                  0.372500   29.000000  \n",
       "75%     36.600000                  0.626250   41.000000  \n",
       "max     67.100000                  2.420000   81.000000  "
      ]
     },
     "execution_count": 170,
     "metadata": {},
     "output_type": "execute_result"
    }
   ],
   "source": [
    "X.describe()"
   ]
  },
  {
   "cell_type": "markdown",
   "metadata": {},
   "source": [
    "# Train Test Split"
   ]
  },
  {
   "cell_type": "code",
   "execution_count": 10,
   "metadata": {},
   "outputs": [],
   "source": [
    "from sklearn.model_selection import train_test_split\n",
    "X_train, X_test, y_train, y_test = train_test_split(X, y, test_size = 0.2, random_state = 10, stratify=y)"
   ]
  },
  {
   "cell_type": "code",
   "execution_count": 168,
   "metadata": {},
   "outputs": [
    {
     "data": {
      "text/plain": [
       "((614, 8), (154, 8))"
      ]
     },
     "execution_count": 168,
     "metadata": {},
     "output_type": "execute_result"
    }
   ],
   "source": [
    "X_train.shape, X_test.shape"
   ]
  },
  {
   "cell_type": "markdown",
   "metadata": {},
   "source": [
    "# Feature Scaling"
   ]
  },
  {
   "cell_type": "code",
   "execution_count": 11,
   "metadata": {},
   "outputs": [],
   "source": [
    "# importing scaling modules\n",
    "from sklearn.preprocessing import StandardScaler\n",
    "from sklearn.preprocessing import MinMaxScaler"
   ]
  },
  {
   "cell_type": "markdown",
   "metadata": {},
   "source": [
    "# Standardization"
   ]
  },
  {
   "cell_type": "code",
   "execution_count": 12,
   "metadata": {},
   "outputs": [],
   "source": [
    "scale = StandardScaler().fit(X_train)\n",
    "X_train_sc = scale.transform(X_train)\n",
    "X_test_sc = scale.transform(X_test)"
   ]
  },
  {
   "cell_type": "code",
   "execution_count": 13,
   "metadata": {},
   "outputs": [],
   "source": [
    "X_train_sc = pd.DataFrame({'Pregnancies': X_train_sc[:, 0], 'Glucose': X_train_sc[:, 1], 'BloodPressure': X_train_sc[:, 2], 'SkinThickness': X_train_sc[:, 3], 'Insulin': X_train_sc[:, 4],\n",
    "       'BMI': X_train_sc[:, 5], 'DiabetesPedigreeFunction': X_train_sc[:, 6], 'Age': X_train_sc[:, 7]})"
   ]
  },
  {
   "cell_type": "code",
   "execution_count": 14,
   "metadata": {},
   "outputs": [],
   "source": [
    "X_test_sc = pd.DataFrame({'Pregnancies': X_test_sc[:, 0], 'Glucose': X_test_sc[:, 1], 'BloodPressure': X_test_sc[:, 2], 'SkinThickness': X_test_sc[:, 3], 'Insulin': X_test_sc[:, 4],\n",
    "       'BMI': X_test_sc[:, 5], 'DiabetesPedigreeFunction': X_test_sc[:, 6], 'Age': X_test_sc[:, 7]})"
   ]
  },
  {
   "cell_type": "markdown",
   "metadata": {},
   "source": [
    "# Logistic Regression Classifier after Standardization"
   ]
  },
  {
   "cell_type": "code",
   "execution_count": 17,
   "metadata": {},
   "outputs": [
    {
     "name": "stdout",
     "output_type": "stream",
     "text": [
      "Accuracy for Logistic Regression Classifier after Standardization is : 82.47 %\n"
     ]
    }
   ],
   "source": [
    "from sklearn.linear_model import LogisticRegression\n",
    "\n",
    "logregs = LogisticRegression()\n",
    "logregs.fit(X_train_sc, y_train)\n",
    "y_pred_st = logregs.predict(X_test_sc)\n",
    "print(\"Accuracy for Logistic Regression Classifier after Standardization is :\",round(metrics.accuracy_score(y_test, y_pred_st)*100,2),\"%\")"
   ]
  },
  {
   "cell_type": "markdown",
   "metadata": {},
   "source": [
    "# Normalization"
   ]
  },
  {
   "cell_type": "code",
   "execution_count": 18,
   "metadata": {},
   "outputs": [],
   "source": [
    "norm = MinMaxScaler().fit(X_train)\n",
    "X_train_nm = norm.transform(X_train)\n",
    "X_test_nm = norm.transform(X_test)"
   ]
  },
  {
   "cell_type": "code",
   "execution_count": 19,
   "metadata": {},
   "outputs": [],
   "source": [
    "X_train_nm = pd.DataFrame({'Pregnancies': X_train_nm[:, 0], 'Glucose': X_train_nm[:, 1], 'BloodPressure': X_train_nm[:, 2], 'SkinThickness': X_train_nm[:, 3], 'Insulin': X_train_nm[:, 4],\n",
    "       'BMI': X_train_nm[:, 5], 'DiabetesPedigreeFunction': X_train_nm[:, 6], 'Age': X_train_nm[:, 7]})"
   ]
  },
  {
   "cell_type": "code",
   "execution_count": 20,
   "metadata": {},
   "outputs": [],
   "source": [
    "X_test_nm = pd.DataFrame({'Pregnancies': X_test_nm[:, 0], 'Glucose': X_test_nm[:, 1], 'BloodPressure': X_test_nm[:, 2], 'SkinThickness': X_test_nm[:, 3], 'Insulin': X_test_nm[:, 4],\n",
    "       'BMI': X_test_nm[:, 5], 'DiabetesPedigreeFunction': X_test_nm[:, 6], 'Age': X_test_nm[:, 7]})"
   ]
  },
  {
   "cell_type": "markdown",
   "metadata": {},
   "source": [
    "# Logistic Regression Classifier after Normalization"
   ]
  },
  {
   "cell_type": "code",
   "execution_count": 21,
   "metadata": {},
   "outputs": [
    {
     "name": "stdout",
     "output_type": "stream",
     "text": [
      "Accuracy for Logistic Regression Classifier after Normalization is : 80.52 %\n"
     ]
    }
   ],
   "source": [
    "from sklearn.linear_model import LogisticRegression\n",
    "\n",
    "logregn = LogisticRegression()\n",
    "logregn.fit(X_train_nm, y_train)\n",
    "y_pred_nm = logregn.predict(X_test_nm)\n",
    "print(\"Accuracy for Logistic Regression Classifier after Normalization is :\",round(metrics.accuracy_score(y_test, y_pred_nm)*100,2),\"%\")"
   ]
  },
  {
   "cell_type": "markdown",
   "metadata": {},
   "source": [
    "# Logistic Regression - Baseline Model"
   ]
  },
  {
   "cell_type": "code",
   "execution_count": 22,
   "metadata": {},
   "outputs": [
    {
     "name": "stdout",
     "output_type": "stream",
     "text": [
      "Accuracy for Logistic Regression Classifier is : 82.47 %\n"
     ]
    }
   ],
   "source": [
    "from sklearn.linear_model import LogisticRegression\n",
    "\n",
    "logreg = LogisticRegression()\n",
    "logreg.fit(X_train, y_train)\n",
    "y_pred_lr = logreg.predict(X_test)\n",
    "print(\"Accuracy for Logistic Regression Classifier is :\",round(metrics.accuracy_score(y_test, y_pred_lr)*100,2),\"%\")"
   ]
  },
  {
   "cell_type": "markdown",
   "metadata": {},
   "source": [
    "# Logisitc Regression with KFold Cross Validation"
   ]
  },
  {
   "cell_type": "code",
   "execution_count": 23,
   "metadata": {},
   "outputs": [
    {
     "data": {
      "text/plain": [
       "array([0.76623377, 0.80519481, 0.79220779, 0.7012987 , 0.72727273,\n",
       "       0.77922078, 0.80519481, 0.80519481, 0.73684211, 0.82894737])"
      ]
     },
     "execution_count": 23,
     "metadata": {},
     "output_type": "execute_result"
    }
   ],
   "source": [
    "# Kfold Cross Validation\n",
    "\n",
    "from sklearn.model_selection import cross_val_score\n",
    "\n",
    "lrk_classifier = LogisticRegression()\n",
    "lrk_score = cross_val_score(lrk_classifier,X,y,cv=10)\n",
    "lrk_score"
   ]
  },
  {
   "cell_type": "code",
   "execution_count": 25,
   "metadata": {},
   "outputs": [
    {
     "data": {
      "text/plain": [
       "0.7747607655502392"
      ]
     },
     "execution_count": 25,
     "metadata": {},
     "output_type": "execute_result"
    }
   ],
   "source": [
    "np.mean(lrk_score)"
   ]
  },
  {
   "cell_type": "markdown",
   "metadata": {},
   "source": [
    "# Logisitc Regression with Stratified KFold Cross Validation"
   ]
  },
  {
   "cell_type": "code",
   "execution_count": 26,
   "metadata": {},
   "outputs": [
    {
     "name": "stdout",
     "output_type": "stream",
     "text": [
      "Accuracy for Logistic Regression Classifier with Stratified KFold Cross Validation is : 76.62 %\n",
      "Accuracy for Logistic Regression Classifier with Stratified KFold Cross Validation is : 80.52 %\n",
      "Accuracy for Logistic Regression Classifier with Stratified KFold Cross Validation is : 79.22 %\n",
      "Accuracy for Logistic Regression Classifier with Stratified KFold Cross Validation is : 70.13 %\n",
      "Accuracy for Logistic Regression Classifier with Stratified KFold Cross Validation is : 72.73 %\n",
      "Accuracy for Logistic Regression Classifier with Stratified KFold Cross Validation is : 77.92 %\n",
      "Accuracy for Logistic Regression Classifier with Stratified KFold Cross Validation is : 80.52 %\n",
      "Accuracy for Logistic Regression Classifier with Stratified KFold Cross Validation is : 80.52 %\n",
      "Accuracy for Logistic Regression Classifier with Stratified KFold Cross Validation is : 73.68 %\n",
      "Accuracy for Logistic Regression Classifier with Stratified KFold Cross Validation is : 82.89 %\n"
     ]
    }
   ],
   "source": [
    "from sklearn.linear_model import LogisticRegression\n",
    "from sklearn.model_selection import StratifiedKFold\n",
    "\n",
    "skf = StratifiedKFold(n_splits=10)\n",
    "\n",
    "for train_index, test_index in skf.split(X,y):\n",
    "    \n",
    "    Xtrain, Xtest = X.iloc[train_index], X.iloc[test_index]\n",
    "    ytrain, ytest = y.iloc[train_index], y.iloc[test_index]\n",
    "\n",
    "    logreg_sk = LogisticRegression()\n",
    "    logreg_sk.fit(Xtrain, ytrain)\n",
    "    y_pred_lr_sk = logreg_sk.predict(Xtest)\n",
    "    print(\"Accuracy for Logistic Regression Classifier with Stratified KFold Cross Validation is :\",round(metrics.accuracy_score(ytest, y_pred_lr_sk)*100,2),\"%\")"
   ]
  },
  {
   "cell_type": "markdown",
   "metadata": {},
   "source": [
    "# Handling the Imbalanced Dataset"
   ]
  },
  {
   "cell_type": "code",
   "execution_count": 27,
   "metadata": {},
   "outputs": [
    {
     "data": {
      "text/plain": [
       "0    500\n",
       "1    268\n",
       "Name: Outcome, dtype: int64"
      ]
     },
     "execution_count": 27,
     "metadata": {},
     "output_type": "execute_result"
    }
   ],
   "source": [
    "data.Outcome.value_counts()"
   ]
  },
  {
   "cell_type": "code",
   "execution_count": null,
   "metadata": {},
   "outputs": [],
   "source": [
    "We can observe that the Target Variable is highly imbalanced. \n",
    "The number of women that don't have diabetes is significantly higher than the number of women who have diabetes.\n",
    "With this dataset the Machine Learning Algorithms are going to be biased towards non-diabetic women."
   ]
  },
  {
   "cell_type": "markdown",
   "metadata": {},
   "source": [
    "# Undersampling"
   ]
  },
  {
   "cell_type": "code",
   "execution_count": 98,
   "metadata": {},
   "outputs": [],
   "source": [
    "from imblearn.under_sampling import RandomUnderSampler"
   ]
  },
  {
   "cell_type": "code",
   "execution_count": 99,
   "metadata": {},
   "outputs": [
    {
     "data": {
      "text/plain": [
       "((768, 8), (768,))"
      ]
     },
     "execution_count": 99,
     "metadata": {},
     "output_type": "execute_result"
    }
   ],
   "source": [
    "X.shape, y.shape"
   ]
  },
  {
   "cell_type": "code",
   "execution_count": 100,
   "metadata": {},
   "outputs": [],
   "source": [
    "under_samp = RandomUnderSampler() \n",
    "X_under, y_under = under_samp.fit_resample(X, y)"
   ]
  },
  {
   "cell_type": "code",
   "execution_count": 101,
   "metadata": {},
   "outputs": [
    {
     "data": {
      "text/plain": [
       "((536, 8), (536,))"
      ]
     },
     "execution_count": 101,
     "metadata": {},
     "output_type": "execute_result"
    }
   ],
   "source": [
    "X_under.shape, y_under.shape"
   ]
  },
  {
   "cell_type": "code",
   "execution_count": 102,
   "metadata": {},
   "outputs": [
    {
     "data": {
      "text/plain": [
       "1    268\n",
       "0    268\n",
       "Name: Outcome, dtype: int64"
      ]
     },
     "execution_count": 102,
     "metadata": {},
     "output_type": "execute_result"
    }
   ],
   "source": [
    "y_under.value_counts()"
   ]
  },
  {
   "cell_type": "code",
   "execution_count": 103,
   "metadata": {},
   "outputs": [],
   "source": [
    "from sklearn.model_selection import train_test_split\n",
    "\n",
    "X_train_u, X_test_u, y_train_u, y_test_u = train_test_split(X_under, y_under, test_size = 0.2, random_state = 10, stratify=y_under)"
   ]
  },
  {
   "cell_type": "markdown",
   "metadata": {},
   "source": [
    "# Implementing Logistic Regression after UnderSampling"
   ]
  },
  {
   "cell_type": "code",
   "execution_count": 104,
   "metadata": {},
   "outputs": [
    {
     "name": "stdout",
     "output_type": "stream",
     "text": [
      "Accuracy for Logistic Regression Classifier after undersampling is : 68.52 %\n"
     ]
    }
   ],
   "source": [
    "from sklearn.linear_model import LogisticRegression\n",
    "from sklearn import metrics\n",
    "\n",
    "logreg_under = LogisticRegression()\n",
    "logreg_under.fit(X_train_u, y_train_u)\n",
    "y_pred_lr_u = logreg_under.predict(X_test_u)\n",
    "print(\"Accuracy for Logistic Regression Classifier after undersampling is :\",round(metrics.accuracy_score(y_test_u, y_pred_lr_u)*100,2),\"%\")"
   ]
  },
  {
   "cell_type": "code",
   "execution_count": 105,
   "metadata": {},
   "outputs": [],
   "source": [
    "scaleu= StandardScaler().fit(X_train_u)\n",
    "X_train_scsu= scaleu.transform(X_train_u)\n",
    "X_test_scsu= scaleu.transform(X_test_u)"
   ]
  },
  {
   "cell_type": "code",
   "execution_count": 106,
   "metadata": {},
   "outputs": [],
   "source": [
    "X_train_scsu = pd.DataFrame({'Pregnancies': X_train_scsu[:, 0], 'Glucose': X_train_scsu[:, 1], 'BloodPressure': X_train_scsu[:, 2], 'SkinThickness': X_train_scsu[:, 3], 'Insulin': X_train_scsu[:, 4],\n",
    "       'BMI': X_train_scsu[:, 5], 'DiabetesPedigreeFunction': X_train_scsu[:, 6], 'Age': X_train_scsu[:, 7]})"
   ]
  },
  {
   "cell_type": "code",
   "execution_count": 107,
   "metadata": {},
   "outputs": [],
   "source": [
    "X_test_scsu = pd.DataFrame({'Pregnancies': X_test_scsu[:, 0], 'Glucose': X_test_scsu[:, 1], 'BloodPressure': X_test_scsu[:, 2], 'SkinThickness': X_test_scsu[:, 3], 'Insulin': X_test_scsu[:, 4],\n",
    "       'BMI': X_test_scsu[:, 5], 'DiabetesPedigreeFunction': X_test_scsu[:, 6], 'Age': X_test_scsu[:, 7]})"
   ]
  },
  {
   "cell_type": "markdown",
   "metadata": {},
   "source": [
    "# Logistic Regression after UnderSampling with Standardization"
   ]
  },
  {
   "cell_type": "code",
   "execution_count": 108,
   "metadata": {},
   "outputs": [
    {
     "name": "stdout",
     "output_type": "stream",
     "text": [
      "Accuracy for Logistic Regression Classifier is : 70.37 %\n"
     ]
    }
   ],
   "source": [
    "from sklearn.linear_model import LogisticRegression\n",
    "from sklearn import metrics\n",
    "\n",
    "clfu = LogisticRegression()\n",
    "clfu.fit(X_train_scsu, y_train_u)\n",
    "y_predu = clfu.predict(X_test_scsu)\n",
    "print(\"Accuracy for Logistic Regression Classifier is :\",round(metrics.accuracy_score(y_test_u, y_predu)*100,2),\"%\")"
   ]
  },
  {
   "cell_type": "code",
   "execution_count": 109,
   "metadata": {},
   "outputs": [],
   "source": [
    "normu = MinMaxScaler().fit(X_train_u)"
   ]
  },
  {
   "cell_type": "code",
   "execution_count": 110,
   "metadata": {},
   "outputs": [],
   "source": [
    "X_train_nmsu = normu.transform(X_train_u)\n",
    "X_test_nmsu = normu.transform(X_test_u)"
   ]
  },
  {
   "cell_type": "code",
   "execution_count": 111,
   "metadata": {},
   "outputs": [],
   "source": [
    "X_train_nmsu = pd.DataFrame({'Pregnancies': X_train_nmsu[:, 0], 'Glucose': X_train_nmsu[:, 1], 'BloodPressure': X_train_nmsu[:, 2], 'SkinThickness': X_train_nmsu[:, 3], 'Insulin': X_train_nmsu[:, 4],\n",
    "       'BMI': X_train_nmsu[:, 5], 'DiabetesPedigreeFunction': X_train_nmsu[:, 6], 'Age': X_train_nmsu[:, 7]})\n"
   ]
  },
  {
   "cell_type": "code",
   "execution_count": 112,
   "metadata": {},
   "outputs": [],
   "source": [
    "X_test_nmsu = pd.DataFrame({'Pregnancies': X_test_nmsu[:, 0], 'Glucose': X_test_nmsu[:, 1], 'BloodPressure': X_test_nmsu[:, 2], 'SkinThickness': X_test_nmsu[:, 3], 'Insulin': X_test_nmsu[:, 4],\n",
    "       'BMI': X_test_nmsu[:, 5], 'DiabetesPedigreeFunction': X_test_nmsu[:, 6], 'Age': X_test_nmsu[:, 7]})\n"
   ]
  },
  {
   "cell_type": "markdown",
   "metadata": {},
   "source": [
    "# Logistic Regression after UnderSampling with Normalization"
   ]
  },
  {
   "cell_type": "code",
   "execution_count": 113,
   "metadata": {},
   "outputs": [
    {
     "name": "stdout",
     "output_type": "stream",
     "text": [
      "Accuracy for Logistic Regression Classifier is : 72.22 %\n"
     ]
    }
   ],
   "source": [
    "from sklearn.linear_model import LogisticRegression\n",
    "from sklearn import metrics\n",
    "\n",
    "clfu1 = LogisticRegression()\n",
    "clfu1.fit(X_train_nmsu, y_train_u)\n",
    "y_predu1 = clfu1.predict(X_test_nmsu)\n",
    "print(\"Accuracy for Logistic Regression Classifier is :\",round(metrics.accuracy_score(y_test_u, y_predu1)*100,2),\"%\")"
   ]
  },
  {
   "cell_type": "markdown",
   "metadata": {},
   "source": [
    "# Over Sampling"
   ]
  },
  {
   "cell_type": "code",
   "execution_count": 114,
   "metadata": {},
   "outputs": [],
   "source": [
    "from imblearn.over_sampling import RandomOverSampler\n",
    "\n",
    "over = RandomOverSampler()\n",
    "X_over, y_over = over.fit_resample(X, y)"
   ]
  },
  {
   "cell_type": "code",
   "execution_count": 115,
   "metadata": {},
   "outputs": [
    {
     "data": {
      "text/plain": [
       "((1000, 8), (1000,))"
      ]
     },
     "execution_count": 115,
     "metadata": {},
     "output_type": "execute_result"
    }
   ],
   "source": [
    "X_over.shape, y_over.shape"
   ]
  },
  {
   "cell_type": "code",
   "execution_count": 116,
   "metadata": {},
   "outputs": [],
   "source": [
    "X_train_o, X_test_o, y_train_o, y_test_o = train_test_split(X_over, y_over, test_size = 0.2, random_state = 10, stratify=y_over)"
   ]
  },
  {
   "cell_type": "code",
   "execution_count": 117,
   "metadata": {},
   "outputs": [
    {
     "name": "stdout",
     "output_type": "stream",
     "text": [
      "Accuracy for Logistic Regression Classifier after oversampling is : 71.0 %\n"
     ]
    }
   ],
   "source": [
    "logreg_over = LogisticRegression()\n",
    "logreg_over.fit(X_train_o, y_train_o)\n",
    "y_pred_lr_o = logreg_over.predict(X_test_o)\n",
    "print(\"Accuracy for Logistic Regression Classifier after oversampling is :\",round(metrics.accuracy_score(y_test_o, y_pred_lr_o)*100,2),\"%\")"
   ]
  },
  {
   "cell_type": "code",
   "execution_count": 118,
   "metadata": {},
   "outputs": [],
   "source": [
    "scale21= StandardScaler().fit(X_train_o)\n",
    "X_train_scs21= scale21.transform(X_train_o)\n",
    "X_test_scs21= scale21.transform(X_test_o)"
   ]
  },
  {
   "cell_type": "code",
   "execution_count": 119,
   "metadata": {},
   "outputs": [],
   "source": [
    "X_train_scs21 = pd.DataFrame({'Pregnancies': X_train_scs21[:, 0], 'Glucose': X_train_scs21[:, 1], 'BloodPressure': X_train_scs21[:, 2], 'SkinThickness': X_train_scs21[:, 3], 'Insulin': X_train_scs21[:, 4],\n",
    "       'BMI': X_train_scs21[:, 5], 'DiabetesPedigreeFunction': X_train_scs21[:, 6], 'Age': X_train_scs21[:, 7]})"
   ]
  },
  {
   "cell_type": "code",
   "execution_count": 120,
   "metadata": {},
   "outputs": [],
   "source": [
    "X_test_scs21 = pd.DataFrame({'Pregnancies': X_test_scs21[:, 0], 'Glucose': X_test_scs21[:, 1], 'BloodPressure': X_test_scs21[:, 2], 'SkinThickness': X_test_scs21[:, 3], 'Insulin': X_test_scs21[:, 4],\n",
    "       'BMI': X_test_scs21[:, 5], 'DiabetesPedigreeFunction': X_test_scs21[:, 6], 'Age': X_test_scs21[:, 7]})\n"
   ]
  },
  {
   "cell_type": "markdown",
   "metadata": {},
   "source": [
    "# Logistic Regression after OverSampling with Standardization"
   ]
  },
  {
   "cell_type": "code",
   "execution_count": 121,
   "metadata": {},
   "outputs": [
    {
     "name": "stdout",
     "output_type": "stream",
     "text": [
      "Accuracy for Logistic Regression Classifier is : 72.5 %\n"
     ]
    }
   ],
   "source": [
    "from sklearn.linear_model import LogisticRegression\n",
    "from sklearn import metrics\n",
    "\n",
    "clfoo = LogisticRegression()\n",
    "clfoo.fit(X_train_scs21, y_train_o)\n",
    "y_predoo = clfoo.predict(X_test_scs21)\n",
    "print(\"Accuracy for Logistic Regression Classifier is :\",round(metrics.accuracy_score(y_test_o, y_predoo)*100,2),\"%\")"
   ]
  },
  {
   "cell_type": "code",
   "execution_count": 125,
   "metadata": {},
   "outputs": [],
   "source": [
    "normo = MinMaxScaler().fit(X_train_o)\n",
    "X_train_nms2 = normo.transform(X_train_o)\n",
    "X_test_nms2 = normo.transform(X_test_o)"
   ]
  },
  {
   "cell_type": "code",
   "execution_count": 126,
   "metadata": {},
   "outputs": [],
   "source": [
    "X_train_nms2 = pd.DataFrame({'Pregnancies': X_train_nms2[:, 0], 'Glucose': X_train_nms2[:, 1], 'BloodPressure': X_train_nms2[:, 2], 'SkinThickness': X_train_nms2[:, 3], 'Insulin': X_train_nms2[:, 4],\n",
    "       'BMI': X_train_nms2[:, 5], 'DiabetesPedigreeFunction': X_train_nms2[:, 6], 'Age': X_train_nms2[:, 7]})"
   ]
  },
  {
   "cell_type": "code",
   "execution_count": 127,
   "metadata": {},
   "outputs": [],
   "source": [
    "X_test_nms2 = pd.DataFrame({'Pregnancies': X_test_nms2[:, 0], 'Glucose': X_test_nms2[:, 1], 'BloodPressure': X_test_nms2[:, 2], 'SkinThickness': X_test_nms2[:, 3], 'Insulin': X_test_nms2[:, 4],\n",
    "       'BMI': X_test_nms2[:, 5], 'DiabetesPedigreeFunction': X_test_nms2[:, 6], 'Age': X_test_nms2[:, 7]})\n"
   ]
  },
  {
   "cell_type": "markdown",
   "metadata": {},
   "source": [
    "# Logistic Regression after OverSampling with Normalization"
   ]
  },
  {
   "cell_type": "code",
   "execution_count": 128,
   "metadata": {},
   "outputs": [
    {
     "name": "stdout",
     "output_type": "stream",
     "text": [
      "Accuracy for Logistic Regression Classifier is : 72.0 %\n"
     ]
    }
   ],
   "source": [
    "from sklearn.linear_model import LogisticRegression\n",
    "from sklearn import metrics\n",
    "\n",
    "clfoo = LogisticRegression()\n",
    "clfoo.fit(X_train_nms2, y_train_o)\n",
    "y_predoo = clfoo.predict(X_test_nms2)\n",
    "print(\"Accuracy for Logistic Regression Classifier is :\",round(metrics.accuracy_score(y_test_o, y_predoo)*100,2),\"%\")"
   ]
  },
  {
   "cell_type": "markdown",
   "metadata": {},
   "source": [
    "# SMOTE (Synthetic Minority Over-sampling Technique)"
   ]
  },
  {
   "cell_type": "code",
   "execution_count": 130,
   "metadata": {},
   "outputs": [],
   "source": [
    "from imblearn.over_sampling import SMOTE\n",
    "from imblearn.over_sampling import (RandomOverSampler, \n",
    "                                    SMOTE, \n",
    "                                    ADASYN)"
   ]
  },
  {
   "cell_type": "code",
   "execution_count": 131,
   "metadata": {},
   "outputs": [],
   "source": [
    "smote = SMOTE(random_state = 101)\n",
    "X_oversample, y_oversample = smote.fit_resample(X_train, y_train)"
   ]
  },
  {
   "cell_type": "code",
   "execution_count": 132,
   "metadata": {
    "scrolled": true
   },
   "outputs": [
    {
     "data": {
      "text/html": [
       "<div>\n",
       "<style scoped>\n",
       "    .dataframe tbody tr th:only-of-type {\n",
       "        vertical-align: middle;\n",
       "    }\n",
       "\n",
       "    .dataframe tbody tr th {\n",
       "        vertical-align: top;\n",
       "    }\n",
       "\n",
       "    .dataframe thead th {\n",
       "        text-align: right;\n",
       "    }\n",
       "</style>\n",
       "<table border=\"1\" class=\"dataframe\">\n",
       "  <thead>\n",
       "    <tr style=\"text-align: right;\">\n",
       "      <th></th>\n",
       "      <th>Pregnancies</th>\n",
       "      <th>Glucose</th>\n",
       "      <th>BloodPressure</th>\n",
       "      <th>SkinThickness</th>\n",
       "      <th>Insulin</th>\n",
       "      <th>BMI</th>\n",
       "      <th>DiabetesPedigreeFunction</th>\n",
       "      <th>Age</th>\n",
       "    </tr>\n",
       "  </thead>\n",
       "  <tbody>\n",
       "    <tr>\n",
       "      <th>0</th>\n",
       "      <td>1.0</td>\n",
       "      <td>180.0</td>\n",
       "      <td>72.405184</td>\n",
       "      <td>29.15342</td>\n",
       "      <td>155.548223</td>\n",
       "      <td>43.3</td>\n",
       "      <td>0.282</td>\n",
       "      <td>41.0</td>\n",
       "    </tr>\n",
       "    <tr>\n",
       "      <th>1</th>\n",
       "      <td>8.0</td>\n",
       "      <td>155.0</td>\n",
       "      <td>62.000000</td>\n",
       "      <td>26.00000</td>\n",
       "      <td>495.000000</td>\n",
       "      <td>34.0</td>\n",
       "      <td>0.543</td>\n",
       "      <td>46.0</td>\n",
       "    </tr>\n",
       "    <tr>\n",
       "      <th>2</th>\n",
       "      <td>7.0</td>\n",
       "      <td>114.0</td>\n",
       "      <td>66.000000</td>\n",
       "      <td>29.15342</td>\n",
       "      <td>155.548223</td>\n",
       "      <td>32.8</td>\n",
       "      <td>0.258</td>\n",
       "      <td>42.0</td>\n",
       "    </tr>\n",
       "    <tr>\n",
       "      <th>3</th>\n",
       "      <td>1.0</td>\n",
       "      <td>109.0</td>\n",
       "      <td>58.000000</td>\n",
       "      <td>18.00000</td>\n",
       "      <td>116.000000</td>\n",
       "      <td>28.5</td>\n",
       "      <td>0.219</td>\n",
       "      <td>22.0</td>\n",
       "    </tr>\n",
       "    <tr>\n",
       "      <th>4</th>\n",
       "      <td>1.0</td>\n",
       "      <td>151.0</td>\n",
       "      <td>60.000000</td>\n",
       "      <td>29.15342</td>\n",
       "      <td>155.548223</td>\n",
       "      <td>26.1</td>\n",
       "      <td>0.179</td>\n",
       "      <td>22.0</td>\n",
       "    </tr>\n",
       "  </tbody>\n",
       "</table>\n",
       "</div>"
      ],
      "text/plain": [
       "   Pregnancies  Glucose  BloodPressure  SkinThickness     Insulin   BMI  \\\n",
       "0          1.0    180.0      72.405184       29.15342  155.548223  43.3   \n",
       "1          8.0    155.0      62.000000       26.00000  495.000000  34.0   \n",
       "2          7.0    114.0      66.000000       29.15342  155.548223  32.8   \n",
       "3          1.0    109.0      58.000000       18.00000  116.000000  28.5   \n",
       "4          1.0    151.0      60.000000       29.15342  155.548223  26.1   \n",
       "\n",
       "   DiabetesPedigreeFunction   Age  \n",
       "0                     0.282  41.0  \n",
       "1                     0.543  46.0  \n",
       "2                     0.258  42.0  \n",
       "3                     0.219  22.0  \n",
       "4                     0.179  22.0  "
      ]
     },
     "execution_count": 132,
     "metadata": {},
     "output_type": "execute_result"
    }
   ],
   "source": [
    "X_oversample.head()"
   ]
  },
  {
   "cell_type": "markdown",
   "metadata": {},
   "source": [
    "# SMOTE without Feature Scaling"
   ]
  },
  {
   "cell_type": "code",
   "execution_count": 133,
   "metadata": {},
   "outputs": [
    {
     "name": "stdout",
     "output_type": "stream",
     "text": [
      "Accuracy for Logistic Regression Classifier is : 74.03 %\n"
     ]
    }
   ],
   "source": [
    "from sklearn.linear_model import LogisticRegression\n",
    "from sklearn import metrics\n",
    "\n",
    "clfo = LogisticRegression()\n",
    "clfo.fit(X_oversample, y_oversample)\n",
    "y_predo = clfo.predict(X_test)\n",
    "print(\"Accuracy for Logistic Regression Classifier is :\",round(metrics.accuracy_score(y_test, y_predo)*100,2),\"%\")"
   ]
  },
  {
   "cell_type": "code",
   "execution_count": 134,
   "metadata": {},
   "outputs": [],
   "source": [
    "scale2= StandardScaler().fit(X_oversample)\n",
    "X_train_scs2= scale2.transform(X_oversample)\n",
    "X_test_scs2= scale2.transform(X_test)"
   ]
  },
  {
   "cell_type": "code",
   "execution_count": 135,
   "metadata": {},
   "outputs": [],
   "source": [
    "X_train_scs2 = pd.DataFrame({'Pregnancies': X_train_scs2[:, 0], 'Glucose': X_train_scs2[:, 1], 'BloodPressure': X_train_scs2[:, 2], 'SkinThickness': X_train_scs2[:, 3], 'Insulin': X_train_scs2[:, 4],\n",
    "       'BMI': X_train_scs2[:, 5], 'DiabetesPedigreeFunction': X_train_scs2[:, 6], 'Age': X_train_scs2[:, 7]})"
   ]
  },
  {
   "cell_type": "code",
   "execution_count": 136,
   "metadata": {},
   "outputs": [],
   "source": [
    "X_test_scs2 = pd.DataFrame({'Pregnancies': X_test_scs2[:, 0], 'Glucose': X_test_scs2[:, 1], 'BloodPressure': X_test_scs2[:, 2], 'SkinThickness': X_test_scs2[:, 3], 'Insulin': X_test_scs2[:, 4],\n",
    "       'BMI': X_test_scs2[:, 5], 'DiabetesPedigreeFunction': X_test_scs2[:, 6], 'Age': X_test_scs2[:, 7]})"
   ]
  },
  {
   "cell_type": "markdown",
   "metadata": {},
   "source": [
    "# Logistic Regression after SMOTE with Standardization"
   ]
  },
  {
   "cell_type": "code",
   "execution_count": 137,
   "metadata": {},
   "outputs": [
    {
     "name": "stdout",
     "output_type": "stream",
     "text": [
      "Accuracy for Logistic Regression Classifier is : 76.62 %\n"
     ]
    }
   ],
   "source": [
    "from sklearn.linear_model import LogisticRegression\n",
    "from sklearn import metrics\n",
    "\n",
    "clf2 = LogisticRegression()\n",
    "clf2.fit(X_train_scs2, y_oversample)\n",
    "y_pred2 = clf2.predict(X_test_scs2)\n",
    "print(\"Accuracy for Logistic Regression Classifier is :\",round(metrics.accuracy_score(y_test, y_pred2)*100,2),\"%\")"
   ]
  },
  {
   "cell_type": "code",
   "execution_count": 138,
   "metadata": {},
   "outputs": [],
   "source": [
    "norm2 = MinMaxScaler().fit(X_train)\n",
    "X_train_nms2 = norm2.transform(X_train)\n",
    "X_test_nms2 = norm2.transform(X_test)"
   ]
  },
  {
   "cell_type": "code",
   "execution_count": 139,
   "metadata": {},
   "outputs": [],
   "source": [
    "X_train_nms2 = pd.DataFrame({'Pregnancies': X_train_nms2[:, 0], 'Glucose': X_train_nms2[:, 1], 'BloodPressure': X_train_nms2[:, 2], 'SkinThickness': X_train_nms2[:, 3], 'Insulin': X_train_nms2[:, 4],\n",
    "       'BMI': X_train_nms2[:, 5], 'DiabetesPedigreeFunction': X_train_nms2[:, 6], 'Age': X_train_nms2[:, 7]})"
   ]
  },
  {
   "cell_type": "code",
   "execution_count": 140,
   "metadata": {},
   "outputs": [],
   "source": [
    "X_test_nms2 = pd.DataFrame({'Pregnancies': X_test_nms2[:, 0], 'Glucose': X_test_nms2[:, 1], 'BloodPressure': X_test_nms2[:, 2], 'SkinThickness': X_test_nms2[:, 3], 'Insulin': X_test_nms2[:, 4],\n",
    "       'BMI': X_test_nms2[:, 5], 'DiabetesPedigreeFunction': X_test_nms2[:, 6], 'Age': X_test_nms2[:, 7]})"
   ]
  },
  {
   "cell_type": "markdown",
   "metadata": {},
   "source": [
    "# Logistic Regression after SMOTE with Normalization"
   ]
  },
  {
   "cell_type": "code",
   "execution_count": 141,
   "metadata": {},
   "outputs": [
    {
     "name": "stdout",
     "output_type": "stream",
     "text": [
      "Accuracy for Logistic Regression Classifier after Normalization is : 80.52 %\n"
     ]
    }
   ],
   "source": [
    "from sklearn.linear_model import LogisticRegression\n",
    "\n",
    "log2 = LogisticRegression()\n",
    "log2.fit(X_train_nms2, y_train)\n",
    "y_prednms2 = log2.predict(X_test_nms2)\n",
    "print(\"Accuracy for Logistic Regression Classifier after Normalization is :\",round(metrics.accuracy_score(y_test, y_prednms2)*100,2),\"%\")"
   ]
  },
  {
   "cell_type": "markdown",
   "metadata": {},
   "source": [
    "# SMOTE NC"
   ]
  },
  {
   "cell_type": "code",
   "execution_count": 143,
   "metadata": {},
   "outputs": [],
   "source": [
    "from imblearn.over_sampling import SMOTENC\n",
    "smotencc = SMOTENC([0],random_state = 101)\n",
    "X_oversamplenc, y_oversamplenc = smotencc.fit_resample(X_train, y_train)"
   ]
  },
  {
   "cell_type": "code",
   "execution_count": 144,
   "metadata": {},
   "outputs": [
    {
     "data": {
      "text/plain": [
       "((800, 8), (800,))"
      ]
     },
     "execution_count": 144,
     "metadata": {},
     "output_type": "execute_result"
    }
   ],
   "source": [
    "X_oversamplenc.shape, y_oversamplenc.shape"
   ]
  },
  {
   "cell_type": "markdown",
   "metadata": {},
   "source": [
    "# LogisticRegression after Implementing SMOTE NC "
   ]
  },
  {
   "cell_type": "code",
   "execution_count": 145,
   "metadata": {},
   "outputs": [
    {
     "name": "stdout",
     "output_type": "stream",
     "text": [
      "Accuracy for Logistic Regression Classifier after implementing SMOTE NC  is : 75.32 %\n"
     ]
    }
   ],
   "source": [
    "from sklearn.linear_model import LogisticRegression\n",
    "from sklearn import metrics\n",
    "\n",
    "clfc = LogisticRegression()\n",
    "clfc.fit(X_oversamplenc, y_oversamplenc)\n",
    "y_predc = clfc.predict(X_test)\n",
    "print(\"Accuracy for Logistic Regression Classifier after implementing SMOTE NC  is :\",round(metrics.accuracy_score(y_test, y_predc)*100,2),\"%\")"
   ]
  },
  {
   "cell_type": "code",
   "execution_count": 146,
   "metadata": {},
   "outputs": [],
   "source": [
    "scalec = StandardScaler().fit(X_oversamplenc)\n",
    "X_train_scc = scalec.transform(X_oversamplenc)\n",
    "X_test_scc = scalec.transform(X_test)"
   ]
  },
  {
   "cell_type": "code",
   "execution_count": 147,
   "metadata": {},
   "outputs": [],
   "source": [
    "X_train_scc = pd.DataFrame({'Pregnancies': X_train_scc[:, 0], 'Glucose': X_train_scc[:, 1], 'BloodPressure': X_train_scc[:, 2], 'SkinThickness': X_train_scc[:, 3], 'Insulin': X_train_scc[:, 4],\n",
    "       'BMI': X_train_scc[:, 5], 'DiabetesPedigreeFunction': X_train_scc[:, 6], 'Age': X_train_scc[:, 7]})"
   ]
  },
  {
   "cell_type": "code",
   "execution_count": 148,
   "metadata": {},
   "outputs": [],
   "source": [
    "X_test_scc = pd.DataFrame({'Pregnancies': X_test_scc[:, 0], 'Glucose': X_test_scc[:, 1], 'BloodPressure': X_test_scc[:, 2], 'SkinThickness': X_test_scc[:, 3], 'Insulin': X_test_scc[:, 4],\n",
    "       'BMI': X_test_scc[:, 5], 'DiabetesPedigreeFunction': X_test_scc[:, 6], 'Age': X_test_scc[:, 7]})"
   ]
  },
  {
   "cell_type": "markdown",
   "metadata": {},
   "source": [
    "# LogisticRegression after SMOTE NC and Scaling of data with Standarization"
   ]
  },
  {
   "cell_type": "code",
   "execution_count": 149,
   "metadata": {},
   "outputs": [
    {
     "name": "stdout",
     "output_type": "stream",
     "text": [
      "Accuracy for Logistic Regression Classifier is : 76.62 %\n"
     ]
    }
   ],
   "source": [
    "from sklearn.linear_model import LogisticRegression\n",
    "from sklearn import metrics\n",
    "\n",
    "clfc = LogisticRegression()\n",
    "clfc.fit(X_train_scc, y_oversamplenc)\n",
    "y_predc = clfc.predict(X_test_scc)\n",
    "print(\"Accuracy for Logistic Regression Classifier is :\",round(metrics.accuracy_score(y_test, y_predc)*100,2),\"%\")"
   ]
  },
  {
   "cell_type": "code",
   "execution_count": 150,
   "metadata": {},
   "outputs": [],
   "source": [
    "norm = MinMaxScaler().fit(X_oversamplenc)\n",
    "X_train_nmc = norm.transform(X_oversamplenc)\n",
    "X_test_nmc = norm.transform(X_test)"
   ]
  },
  {
   "cell_type": "code",
   "execution_count": 151,
   "metadata": {},
   "outputs": [],
   "source": [
    "X_train_nmc = pd.DataFrame({'Pregnancies': X_train_nmc[:, 0], 'Glucose': X_train_nmc[:, 1], 'BloodPressure': X_train_nmc[:, 2], 'SkinThickness': X_train_nmc[:, 3], 'Insulin': X_train_nmc[:, 4],\n",
    "       'BMI': X_train_nmc[:, 5], 'DiabetesPedigreeFunction': X_train_nmc[:, 6], 'Age': X_train_nmc[:, 7]})"
   ]
  },
  {
   "cell_type": "code",
   "execution_count": 152,
   "metadata": {},
   "outputs": [],
   "source": [
    "X_test_nmc = pd.DataFrame({'Pregnancies': X_test_nmc[:, 0], 'Glucose': X_test_nmc[:, 1], 'BloodPressure': X_test_nmc[:, 2], 'SkinThickness': X_test_nmc[:, 3], 'Insulin': X_test_nmc[:, 4],\n",
    "       'BMI': X_test_nmc[:, 5], 'DiabetesPedigreeFunction': X_test_nmc[:, 6], 'Age': X_test_nmc[:, 7]})"
   ]
  },
  {
   "cell_type": "markdown",
   "metadata": {},
   "source": [
    "# LogisticRegression after SMOTE NC and Scaling of data with Normalization"
   ]
  },
  {
   "cell_type": "code",
   "execution_count": 153,
   "metadata": {},
   "outputs": [
    {
     "name": "stdout",
     "output_type": "stream",
     "text": [
      "Accuracy for Logistic Regression Classifier after Normalization is : 77.27 %\n"
     ]
    }
   ],
   "source": [
    "from sklearn.linear_model import LogisticRegression\n",
    "\n",
    "lognc = LogisticRegression()\n",
    "lognc.fit(X_train_nmc, y_oversamplenc)\n",
    "y_prednmc = lognc.predict(X_test_nmc)\n",
    "print(\"Accuracy for Logistic Regression Classifier after Normalization is :\",round(metrics.accuracy_score(y_test, y_prednmc)*100,2),\"%\")"
   ]
  },
  {
   "cell_type": "markdown",
   "metadata": {},
   "source": [
    "# ADASYN (Adaptive Synthetic Sampling)"
   ]
  },
  {
   "cell_type": "code",
   "execution_count": 154,
   "metadata": {},
   "outputs": [],
   "source": [
    "from imblearn.over_sampling import ADASYN"
   ]
  },
  {
   "cell_type": "code",
   "execution_count": 155,
   "metadata": {},
   "outputs": [],
   "source": [
    "from imblearn.over_sampling import ADASYN\n",
    "adasyn = ADASYN(random_state = 101)\n",
    "X_oversample_ada, y_oversample_ada = adasyn.fit_resample(X_train, y_train)"
   ]
  },
  {
   "cell_type": "code",
   "execution_count": 156,
   "metadata": {},
   "outputs": [
    {
     "data": {
      "text/plain": [
       "((779, 8), (779,))"
      ]
     },
     "execution_count": 156,
     "metadata": {},
     "output_type": "execute_result"
    }
   ],
   "source": [
    "X_oversample_ada.shape, y_oversample_ada.shape"
   ]
  },
  {
   "cell_type": "markdown",
   "metadata": {},
   "source": [
    "# LogisticRegression after ADASYN"
   ]
  },
  {
   "cell_type": "code",
   "execution_count": 157,
   "metadata": {},
   "outputs": [
    {
     "name": "stdout",
     "output_type": "stream",
     "text": [
      "Accuracy for Logistic Regression Classifier after implementing ADASYN  is : 72.08 %\n"
     ]
    }
   ],
   "source": [
    "from sklearn.linear_model import LogisticRegression\n",
    "from sklearn import metrics\n",
    "\n",
    "clfa = LogisticRegression()\n",
    "clfa.fit(X_oversample_ada, y_oversample_ada)\n",
    "y_preda = clfa.predict(X_test)\n",
    "print(\"Accuracy for Logistic Regression Classifier after implementing ADASYN  is :\",round(metrics.accuracy_score(y_test, y_preda)*100,2),\"%\")"
   ]
  },
  {
   "cell_type": "code",
   "execution_count": 158,
   "metadata": {},
   "outputs": [],
   "source": [
    "scalea = StandardScaler().fit(X_oversample_ada)\n",
    "X_train_sca = scalea.transform(X_oversample_ada)\n",
    "X_test_sca = scalea.transform(X_test)"
   ]
  },
  {
   "cell_type": "code",
   "execution_count": 159,
   "metadata": {},
   "outputs": [],
   "source": [
    "X_train_sca = pd.DataFrame({'Pregnancies': X_train_sca[:, 0], 'Glucose': X_train_sca[:, 1], 'BloodPressure': X_train_sca[:, 2], 'SkinThickness': X_train_sca[:, 3], 'Insulin': X_train_sca[:, 4],\n",
    "       'BMI': X_train_sca[:, 5], 'DiabetesPedigreeFunction': X_train_sca[:, 6], 'Age': X_train_sca[:, 7]})"
   ]
  },
  {
   "cell_type": "code",
   "execution_count": 160,
   "metadata": {},
   "outputs": [],
   "source": [
    "X_test_sca = pd.DataFrame({'Pregnancies': X_test_sca[:, 0], 'Glucose': X_test_sca[:, 1], 'BloodPressure': X_test_sca[:, 2], 'SkinThickness': X_test_sca[:, 3], 'Insulin': X_test_sca[:, 4],\n",
    "       'BMI': X_test_sca[:, 5], 'DiabetesPedigreeFunction': X_test_sca[:, 6], 'Age': X_test_sca[:, 7]})"
   ]
  },
  {
   "cell_type": "markdown",
   "metadata": {},
   "source": [
    "# LogisticRegression after ADASYN with Standarization"
   ]
  },
  {
   "cell_type": "code",
   "execution_count": 161,
   "metadata": {},
   "outputs": [
    {
     "name": "stdout",
     "output_type": "stream",
     "text": [
      "Accuracy for Logistic Regression Classifier after implementing ADASYN with Standarization is : 76.62 %\n"
     ]
    }
   ],
   "source": [
    "from sklearn.linear_model import LogisticRegression\n",
    "from sklearn import metrics\n",
    "\n",
    "clfa1 = LogisticRegression()\n",
    "clfa1.fit(X_train_sca, y_oversample_ada)\n",
    "y_preda1 = clfa1.predict(X_test_sca)\n",
    "print(\"Accuracy for Logistic Regression Classifier after implementing ADASYN with Standarization is :\",round(metrics.accuracy_score(y_test, y_preda1)*100,2),\"%\")"
   ]
  },
  {
   "cell_type": "code",
   "execution_count": 162,
   "metadata": {},
   "outputs": [],
   "source": [
    "norma = MinMaxScaler().fit(X_oversample_ada)\n",
    "X_train_nma = norma.transform(X_oversample_ada)\n",
    "X_test_nma = norma.transform(X_test)"
   ]
  },
  {
   "cell_type": "code",
   "execution_count": 163,
   "metadata": {},
   "outputs": [],
   "source": [
    "X_train_nma = pd.DataFrame({'Pregnancies': X_train_nma[:, 0], 'Glucose': X_train_nma[:, 1], 'BloodPressure': X_train_nma[:, 2], 'SkinThickness': X_train_nma[:, 3], 'Insulin': X_train_nma[:, 4],\n",
    "       'BMI': X_train_nma[:, 5], 'DiabetesPedigreeFunction': X_train_nma[:, 6], 'Age': X_train_nma[:, 7]})"
   ]
  },
  {
   "cell_type": "code",
   "execution_count": 164,
   "metadata": {},
   "outputs": [],
   "source": [
    "X_test_nma = pd.DataFrame({'Pregnancies': X_test_nma[:, 0], 'Glucose': X_test_nma[:, 1], 'BloodPressure': X_test_nma[:, 2], 'SkinThickness': X_test_nma[:, 3], 'Insulin': X_test_nma[:, 4],\n",
    "       'BMI': X_test_nma[:, 5], 'DiabetesPedigreeFunction': X_test_nma[:, 6], 'Age': X_test_nma[:, 7]})"
   ]
  },
  {
   "cell_type": "markdown",
   "metadata": {},
   "source": [
    "# LogisticRegression after ADASYN with Normalization"
   ]
  },
  {
   "cell_type": "code",
   "execution_count": 165,
   "metadata": {},
   "outputs": [
    {
     "name": "stdout",
     "output_type": "stream",
     "text": [
      "Accuracy for Logistic Regression Classifier after implementing ADASYN with Normalization is : 75.32 %\n"
     ]
    }
   ],
   "source": [
    "from sklearn.linear_model import LogisticRegression\n",
    "\n",
    "lognma2 = LogisticRegression()\n",
    "lognma2.fit(X_train_nma, y_oversample_ada)\n",
    "y_prednma2 = lognma2.predict(X_test_nma)\n",
    "print(\"Accuracy for Logistic Regression Classifier after implementing ADASYN with Normalization is :\",round(metrics.accuracy_score(y_test, y_prednma2)*100,2),\"%\")"
   ]
  },
  {
   "cell_type": "markdown",
   "metadata": {},
   "source": [
    "# Feature Selection\n",
    "\n",
    "- Plot the correlation matrix and eliminate the redundant features\n",
    "- Univariate Selection: SelectKBest\n",
    "- Feature Importance: ExtraTreesClassifier\n",
    "- Information Gain: mutual_info_classif\n",
    "- Recursive Feature Elimination"
   ]
  },
  {
   "cell_type": "code",
   "execution_count": null,
   "metadata": {},
   "outputs": [],
   "source": [
    "Remove coorelated features i.e. redundant features as they convey\n",
    "the same information. This redundant/correlated feature could also\n",
    "lead to over-fitting."
   ]
  },
  {
   "cell_type": "markdown",
   "metadata": {},
   "source": [
    "# Correlation Matrix"
   ]
  },
  {
   "cell_type": "code",
   "execution_count": 97,
   "metadata": {},
   "outputs": [
    {
     "data": {
      "text/plain": [
       "<matplotlib.axes._subplots.AxesSubplot at 0x209198216c8>"
      ]
     },
     "execution_count": 97,
     "metadata": {},
     "output_type": "execute_result"
    },
    {
     "data": {
      "image/png": "[encoded data removed]",
      "text/plain": [
       "<Figure size 720x720 with 2 Axes>"
      ]
     },
     "metadata": {
      "needs_background": "light"
     },
     "output_type": "display_data"
    }
   ],
   "source": [
    "import seaborn as sns\n",
    "corr=data.iloc[:,:-1].corr()\n",
    "top_features=corr.index\n",
    "plt.figure(figsize=(10,10))\n",
    "sns.heatmap(data[top_features].corr(),annot=True)"
   ]
  },
  {
   "cell_type": "code",
   "execution_count": 29,
   "metadata": {},
   "outputs": [],
   "source": [
    "threshold=0.8"
   ]
  },
  {
   "cell_type": "code",
   "execution_count": 30,
   "metadata": {},
   "outputs": [],
   "source": [
    "# find and remove correlated features\n",
    "def correlation(dataset, threshold):\n",
    "    col_corr = set()  # Set of all the names of correlated columns\n",
    "    corr_matrix = dataset.corr()\n",
    "    for i in range(len(corr_matrix.columns)):\n",
    "        for j in range(i):\n",
    "            if abs(corr_matrix.iloc[i, j]) > threshold: # we are interested in absolute coeff value\n",
    "                colname = corr_matrix.columns[i]  # getting the name of column\n",
    "                col_corr.add(colname)\n",
    "    return col_corr"
   ]
  },
  {
   "cell_type": "code",
   "execution_count": 31,
   "metadata": {},
   "outputs": [
    {
     "data": {
      "text/plain": [
       "set()"
      ]
     },
     "execution_count": 31,
     "metadata": {},
     "output_type": "execute_result"
    }
   ],
   "source": [
    "correlation(data.iloc[:,:-1],threshold)"
   ]
  },
  {
   "cell_type": "code",
   "execution_count": null,
   "metadata": {},
   "outputs": [],
   "source": [
    "None of the features are correlated highly to each other.\n",
    "Hence it shows that we don't have any redundant data.\n",
    "Hence we don't need to eliminate any features."
   ]
  },
  {
   "cell_type": "markdown",
   "metadata": {},
   "source": [
    "# Univariate Selection: SelectKBest¶"
   ]
  },
  {
   "cell_type": "code",
   "execution_count": 32,
   "metadata": {},
   "outputs": [],
   "source": [
    "from sklearn.feature_selection import SelectKBest\n",
    "from sklearn.feature_selection import chi2"
   ]
  },
  {
   "cell_type": "code",
   "execution_count": 33,
   "metadata": {},
   "outputs": [
    {
     "data": {
      "text/plain": [
       "((768, 8), (768,))"
      ]
     },
     "execution_count": 33,
     "metadata": {},
     "output_type": "execute_result"
    }
   ],
   "source": [
    "X.shape, y.shape"
   ]
  },
  {
   "cell_type": "code",
   "execution_count": 34,
   "metadata": {},
   "outputs": [],
   "source": [
    "ordered_rank_features=SelectKBest(score_func=chi2,k=8)\n",
    "ordered_feature=ordered_rank_features.fit(X,y)"
   ]
  },
  {
   "cell_type": "code",
   "execution_count": 35,
   "metadata": {},
   "outputs": [],
   "source": [
    "dfscores=pd.DataFrame(ordered_feature.scores_,columns=[\"Score\"])\n",
    "dfcolumns=pd.DataFrame(X.columns)"
   ]
  },
  {
   "cell_type": "code",
   "execution_count": 36,
   "metadata": {},
   "outputs": [],
   "source": [
    "features_rank=pd.concat([dfcolumns,dfscores],axis=1)"
   ]
  },
  {
   "cell_type": "code",
   "execution_count": 37,
   "metadata": {},
   "outputs": [
    {
     "data": {
      "text/html": [
       "<div>\n",
       "<style scoped>\n",
       "    .dataframe tbody tr th:only-of-type {\n",
       "        vertical-align: middle;\n",
       "    }\n",
       "\n",
       "    .dataframe tbody tr th {\n",
       "        vertical-align: top;\n",
       "    }\n",
       "\n",
       "    .dataframe thead th {\n",
       "        text-align: right;\n",
       "    }\n",
       "</style>\n",
       "<table border=\"1\" class=\"dataframe\">\n",
       "  <thead>\n",
       "    <tr style=\"text-align: right;\">\n",
       "      <th></th>\n",
       "      <th>Features</th>\n",
       "      <th>Score</th>\n",
       "    </tr>\n",
       "  </thead>\n",
       "  <tbody>\n",
       "    <tr>\n",
       "      <th>0</th>\n",
       "      <td>Pregnancies</td>\n",
       "      <td>93.112985</td>\n",
       "    </tr>\n",
       "    <tr>\n",
       "      <th>1</th>\n",
       "      <td>Glucose</td>\n",
       "      <td>1418.705030</td>\n",
       "    </tr>\n",
       "    <tr>\n",
       "      <th>2</th>\n",
       "      <td>BloodPressure</td>\n",
       "      <td>42.749956</td>\n",
       "    </tr>\n",
       "    <tr>\n",
       "      <th>3</th>\n",
       "      <td>SkinThickness</td>\n",
       "      <td>94.245703</td>\n",
       "    </tr>\n",
       "    <tr>\n",
       "      <th>4</th>\n",
       "      <td>Insulin</td>\n",
       "      <td>1638.618150</td>\n",
       "    </tr>\n",
       "    <tr>\n",
       "      <th>5</th>\n",
       "      <td>BMI</td>\n",
       "      <td>108.678584</td>\n",
       "    </tr>\n",
       "    <tr>\n",
       "      <th>6</th>\n",
       "      <td>DiabetesPedigreeFunction</td>\n",
       "      <td>5.392682</td>\n",
       "    </tr>\n",
       "    <tr>\n",
       "      <th>7</th>\n",
       "      <td>Age</td>\n",
       "      <td>181.303689</td>\n",
       "    </tr>\n",
       "  </tbody>\n",
       "</table>\n",
       "</div>"
      ],
      "text/plain": [
       "                   Features        Score\n",
       "0               Pregnancies    93.112985\n",
       "1                   Glucose  1418.705030\n",
       "2             BloodPressure    42.749956\n",
       "3             SkinThickness    94.245703\n",
       "4                   Insulin  1638.618150\n",
       "5                       BMI   108.678584\n",
       "6  DiabetesPedigreeFunction     5.392682\n",
       "7                       Age   181.303689"
      ]
     },
     "execution_count": 37,
     "metadata": {},
     "output_type": "execute_result"
    }
   ],
   "source": [
    "features_rank.columns=['Features','Score']\n",
    "features_rank"
   ]
  },
  {
   "cell_type": "code",
   "execution_count": 38,
   "metadata": {},
   "outputs": [
    {
     "data": {
      "text/plain": [
       "Index(['Pregnancies', 'Glucose', 'BloodPressure', 'SkinThickness', 'Insulin',\n",
       "       'BMI', 'DiabetesPedigreeFunction', 'Age'],\n",
       "      dtype='object')"
      ]
     },
     "execution_count": 38,
     "metadata": {},
     "output_type": "execute_result"
    }
   ],
   "source": [
    "X.columns"
   ]
  },
  {
   "cell_type": "code",
   "execution_count": 39,
   "metadata": {},
   "outputs": [],
   "source": [
    "X_new = X[['Pregnancies', 'Glucose', 'BloodPressure', 'SkinThickness', 'Insulin',\n",
    "       'BMI', 'Age']]"
   ]
  },
  {
   "cell_type": "code",
   "execution_count": 40,
   "metadata": {},
   "outputs": [],
   "source": [
    "from sklearn.model_selection import train_test_split\n",
    "\n",
    "X_train_n, X_test_n, y_train_n, y_test_n = train_test_split(X_new, y, test_size = 0.2, random_state = 10, stratify=y)"
   ]
  },
  {
   "cell_type": "code",
   "execution_count": 41,
   "metadata": {},
   "outputs": [
    {
     "name": "stdout",
     "output_type": "stream",
     "text": [
      "Accuracy for Logistic Regression Classifier after Univariate Feature Selection is : 79.22 %\n"
     ]
    }
   ],
   "source": [
    "from sklearn.linear_model import LogisticRegression\n",
    "from sklearn import metrics\n",
    "\n",
    "logreg_new = LogisticRegression()\n",
    "logreg_new.fit(X_train_n, y_train_n)\n",
    "y_pred_new = logreg_new.predict(X_test_n)\n",
    "print(\"Accuracy for Logistic Regression Classifier after Univariate Feature Selection is :\",round(metrics.accuracy_score(y_test_n, y_pred_new)*100,2),\"%\")"
   ]
  },
  {
   "cell_type": "markdown",
   "metadata": {},
   "source": [
    "# Removal of the feature 'DiabetesPedigreeFunction' resulted in lower accuracy"
   ]
  },
  {
   "cell_type": "markdown",
   "metadata": {},
   "source": [
    "# Feature Importance: ExtraTreesClassifier"
   ]
  },
  {
   "cell_type": "code",
   "execution_count": null,
   "metadata": {},
   "outputs": [],
   "source": [
    "This technique gives you a score for each feature of your data,the higher the score mor relevant it is"
   ]
  },
  {
   "cell_type": "code",
   "execution_count": 42,
   "metadata": {},
   "outputs": [
    {
     "data": {
      "text/plain": [
       "ExtraTreesClassifier()"
      ]
     },
     "execution_count": 42,
     "metadata": {},
     "output_type": "execute_result"
    }
   ],
   "source": [
    "from sklearn.ensemble import ExtraTreesClassifier\n",
    "import matplotlib.pyplot as plt\n",
    "model=ExtraTreesClassifier()\n",
    "model.fit(X,y)"
   ]
  },
  {
   "cell_type": "code",
   "execution_count": 43,
   "metadata": {},
   "outputs": [
    {
     "name": "stdout",
     "output_type": "stream",
     "text": [
      "[0.10991749 0.24190296 0.09368951 0.0853542  0.08412559 0.13966679\n",
      " 0.11128592 0.13405753]\n"
     ]
    }
   ],
   "source": [
    "print(model.feature_importances_)"
   ]
  },
  {
   "cell_type": "code",
   "execution_count": 44,
   "metadata": {},
   "outputs": [
    {
     "data": {
      "image/png": "[encoded data removed]",
      "text/plain": [
       "<Figure size 432x288 with 1 Axes>"
      ]
     },
     "metadata": {
      "needs_background": "light"
     },
     "output_type": "display_data"
    }
   ],
   "source": [
    "ranked_features=pd.Series(model.feature_importances_,index=X.columns)\n",
    "ranked_features.nlargest(8).plot(kind='barh')\n",
    "plt.show()"
   ]
  },
  {
   "cell_type": "code",
   "execution_count": 45,
   "metadata": {},
   "outputs": [],
   "source": [
    "X_new1 = X[['Pregnancies', 'Glucose', 'BloodPressure', 'DiabetesPedigreeFunction',\n",
    "       'BMI', 'Age']]"
   ]
  },
  {
   "cell_type": "code",
   "execution_count": 46,
   "metadata": {},
   "outputs": [],
   "source": [
    "from sklearn.model_selection import train_test_split\n",
    "\n",
    "X_train_nn, X_test_nn, y_train_nn, y_test_nn = train_test_split(X_new1, y, test_size = 0.2, random_state = 10, stratify=y)"
   ]
  },
  {
   "cell_type": "code",
   "execution_count": 47,
   "metadata": {},
   "outputs": [
    {
     "name": "stdout",
     "output_type": "stream",
     "text": [
      "Accuracy for Logistic Regression Classifier after Univariate Feature Selection is : 82.47 %\n"
     ]
    }
   ],
   "source": [
    "from sklearn.linear_model import LogisticRegression\n",
    "from sklearn import metrics\n",
    "\n",
    "logreg_new1 = LogisticRegression()\n",
    "logreg_new1.fit(X_train_nn, y_train_nn)\n",
    "y_pred_new1 = logreg_new1.predict(X_test_nn)\n",
    "print(\"Accuracy for Logistic Regression Classifier after Univariate Feature Selection is :\",round(metrics.accuracy_score(y_test_nn, y_pred_new1)*100,2),\"%\")"
   ]
  },
  {
   "cell_type": "code",
   "execution_count": null,
   "metadata": {},
   "outputs": [],
   "source": [
    "Removal of the features 'SkinThickness' and 'Insulin' resulted resulted in higher accuracy"
   ]
  },
  {
   "cell_type": "markdown",
   "metadata": {},
   "source": [
    "# Information Gain"
   ]
  },
  {
   "cell_type": "code",
   "execution_count": 48,
   "metadata": {},
   "outputs": [],
   "source": [
    "from sklearn.feature_selection import mutual_info_classif"
   ]
  },
  {
   "cell_type": "code",
   "execution_count": 49,
   "metadata": {},
   "outputs": [],
   "source": [
    "mutual_info=mutual_info_classif(X,y)"
   ]
  },
  {
   "cell_type": "code",
   "execution_count": 50,
   "metadata": {},
   "outputs": [
    {
     "data": {
      "text/plain": [
       "Glucose                     0.133182\n",
       "BMI                         0.075422\n",
       "Insulin                     0.057742\n",
       "Age                         0.050120\n",
       "SkinThickness               0.036775\n",
       "BloodPressure               0.028901\n",
       "Pregnancies                 0.022830\n",
       "DiabetesPedigreeFunction    0.017267\n",
       "dtype: float64"
      ]
     },
     "execution_count": 50,
     "metadata": {},
     "output_type": "execute_result"
    }
   ],
   "source": [
    "mutual_data=pd.Series(mutual_info,index=X.columns)\n",
    "mutual_data.sort_values(ascending=False)"
   ]
  },
  {
   "cell_type": "code",
   "execution_count": 51,
   "metadata": {},
   "outputs": [
    {
     "data": {
      "text/plain": [
       "Index(['Pregnancies', 'Glucose', 'BloodPressure', 'SkinThickness', 'Insulin',\n",
       "       'BMI', 'DiabetesPedigreeFunction', 'Age'],\n",
       "      dtype='object')"
      ]
     },
     "execution_count": 51,
     "metadata": {},
     "output_type": "execute_result"
    }
   ],
   "source": [
    "X.columns"
   ]
  },
  {
   "cell_type": "code",
   "execution_count": 52,
   "metadata": {},
   "outputs": [],
   "source": [
    "X_i = X[['Pregnancies', 'Glucose', 'BloodPressure','Insulin',\n",
    "       'BMI', 'Age']]"
   ]
  },
  {
   "cell_type": "code",
   "execution_count": 53,
   "metadata": {},
   "outputs": [],
   "source": [
    "from sklearn.model_selection import train_test_split\n",
    "\n",
    "X_train_i, X_test_i, y_train_i, y_test_i = train_test_split(X_i, y, test_size = 0.2, random_state = 10, stratify=y)"
   ]
  },
  {
   "cell_type": "code",
   "execution_count": 54,
   "metadata": {},
   "outputs": [
    {
     "name": "stdout",
     "output_type": "stream",
     "text": [
      "Accuracy for Logistic Regression Classifier after Univariate Feature Selection is : 79.87 %\n"
     ]
    }
   ],
   "source": [
    "from sklearn.linear_model import LogisticRegression\n",
    "from sklearn import metrics\n",
    "\n",
    "logreg_ig = LogisticRegression()\n",
    "logreg_ig.fit(X_train_i, y_train_i)\n",
    "y_pred_ig = logreg_ig.predict(X_test_i)\n",
    "print(\"Accuracy for Logistic Regression Classifier after Univariate Feature Selection is :\",round(metrics.accuracy_score(y_test_i, y_pred_ig)*100,2),\"%\")"
   ]
  },
  {
   "cell_type": "markdown",
   "metadata": {},
   "source": [
    "# Removal of the feature 'DiabetesPedigreeFunction' and 'SkinThickness' resulted in lower accuracy, based on the Information gain"
   ]
  },
  {
   "cell_type": "markdown",
   "metadata": {},
   "source": [
    "# Recursive Feature Elimination"
   ]
  },
  {
   "cell_type": "code",
   "execution_count": null,
   "metadata": {},
   "outputs": [],
   "source": [
    "# Recursive Feature Elimination with Cross-Validation (RFECV)"
   ]
  },
  {
   "cell_type": "code",
   "execution_count": 55,
   "metadata": {},
   "outputs": [
    {
     "data": {
      "text/plain": [
       "RFECV(cv=StratifiedKFold(n_splits=10, random_state=None, shuffle=False),\n",
       "      estimator=LogisticRegression(random_state=101), scoring='accuracy')"
      ]
     },
     "execution_count": 55,
     "metadata": {},
     "output_type": "execute_result"
    }
   ],
   "source": [
    "from sklearn.model_selection import StratifiedKFold\n",
    "from sklearn.feature_selection import RFECV\n",
    "\n",
    "lgc = LogisticRegression(random_state=101)\n",
    "rfecv = RFECV(estimator=lgc, step=1, cv=StratifiedKFold(10), scoring='accuracy')\n",
    "rfecv.fit(X, y)"
   ]
  },
  {
   "cell_type": "code",
   "execution_count": 56,
   "metadata": {},
   "outputs": [
    {
     "name": "stdout",
     "output_type": "stream",
     "text": [
      "Optimal number of features: 8\n"
     ]
    }
   ],
   "source": [
    "print('Optimal number of features: {}'.format(rfecv.n_features_))"
   ]
  },
  {
   "cell_type": "markdown",
   "metadata": {},
   "source": [
    "# Optimal number of features: 8"
   ]
  },
  {
   "cell_type": "markdown",
   "metadata": {},
   "source": [
    "# Accuracy obtained vs. Number of Features used"
   ]
  },
  {
   "cell_type": "code",
   "execution_count": 57,
   "metadata": {},
   "outputs": [
    {
     "data": {
      "image/png": "[encoded data removed]",
      "text/plain": [
       "<Figure size 1152x648 with 1 Axes>"
      ]
     },
     "metadata": {
      "needs_background": "light"
     },
     "output_type": "display_data"
    }
   ],
   "source": [
    "plt.figure(figsize=(16, 9))\n",
    "plt.title('Recursive Feature Elimination with Cross-Validation', fontsize=18, fontweight='bold', pad=20)\n",
    "plt.xlabel('Number of features selected', fontsize=14, labelpad=20)\n",
    "plt.ylabel('% Correct Classification', fontsize=14, labelpad=20)\n",
    "plt.plot(range(1, len(rfecv.grid_scores_) + 1), rfecv.grid_scores_, color='#303F9F', linewidth=3)\n",
    "\n",
    "plt.show()"
   ]
  },
  {
   "cell_type": "code",
   "execution_count": 58,
   "metadata": {},
   "outputs": [
    {
     "data": {
      "text/plain": [
       "array([0.65623718, 0.67447027, 0.70049556, 0.77214627, 0.77212919,\n",
       "       0.77214627, 0.77214627, 0.77476077])"
      ]
     },
     "execution_count": 58,
     "metadata": {},
     "output_type": "execute_result"
    }
   ],
   "source": [
    "rfecv.grid_scores_"
   ]
  },
  {
   "cell_type": "code",
   "execution_count": 59,
   "metadata": {},
   "outputs": [
    {
     "data": {
      "text/plain": [
       "array([1, 1, 1, 1, 1, 1, 1, 1])"
      ]
     },
     "execution_count": 59,
     "metadata": {},
     "output_type": "execute_result"
    }
   ],
   "source": [
    "rfecv.ranking_"
   ]
  },
  {
   "cell_type": "markdown",
   "metadata": {},
   "source": [
    "# Hyperparameter Tuning\n",
    "\n",
    "- GridSearchCV\n",
    "- RandomizedSearchCV"
   ]
  },
  {
   "cell_type": "code",
   "execution_count": 60,
   "metadata": {},
   "outputs": [],
   "source": [
    "from sklearn.model_selection import train_test_split\n",
    "\n",
    "X_train_g, X_test_g, y_train_g, y_test_g = train_test_split(X, y, test_size = 0.2, random_state = 10, stratify=y)"
   ]
  },
  {
   "cell_type": "markdown",
   "metadata": {},
   "source": [
    "# GridSearchCV"
   ]
  },
  {
   "cell_type": "code",
   "execution_count": 61,
   "metadata": {},
   "outputs": [],
   "source": [
    "classifier = LogisticRegression()"
   ]
  },
  {
   "cell_type": "code",
   "execution_count": 62,
   "metadata": {},
   "outputs": [],
   "source": [
    "parameters = [\n",
    "    {\n",
    "     'penalty' : ['l1', 'l2'],\n",
    "    'C' : np.logspace(-4, 4, 20),\n",
    "    'solver' : ['liblinear']}]"
   ]
  },
  {
   "cell_type": "code",
   "execution_count": 69,
   "metadata": {},
   "outputs": [],
   "source": [
    "from sklearn.model_selection import GridSearchCV\n",
    "\n",
    "grid_search = GridSearchCV(estimator = classifier,\n",
    "                           param_grid = parameters,\n",
    "                           scoring = 'accuracy',\n",
    "                           cv = 10,\n",
    "                           n_jobs = -1)\n",
    "grid_searchw= grid_search.fit(X_train_g, y_train_g)"
   ]
  },
  {
   "cell_type": "code",
   "execution_count": 70,
   "metadata": {},
   "outputs": [],
   "source": [
    "from sklearn.model_selection import GridSearchCV\n",
    "\n",
    "grid_search = GridSearchCV(estimator = classifier,\n",
    "                           param_grid = parameters,\n",
    "                           scoring = 'roc_auc',\n",
    "                           cv = 10,\n",
    "                           n_jobs = -1)\n",
    "grid_search = grid_search.fit(X_train_g, y_train_g)"
   ]
  },
  {
   "cell_type": "code",
   "execution_count": 71,
   "metadata": {},
   "outputs": [],
   "source": [
    "accuracy = grid_searchw.best_score_"
   ]
  },
  {
   "cell_type": "code",
   "execution_count": 72,
   "metadata": {},
   "outputs": [],
   "source": [
    "roc_auc = grid_search.best_score_"
   ]
  },
  {
   "cell_type": "code",
   "execution_count": 73,
   "metadata": {},
   "outputs": [
    {
     "data": {
      "text/plain": [
       "0.7671073506081438"
      ]
     },
     "execution_count": 73,
     "metadata": {},
     "output_type": "execute_result"
    }
   ],
   "source": [
    "accuracy"
   ]
  },
  {
   "cell_type": "code",
   "execution_count": 74,
   "metadata": {},
   "outputs": [
    {
     "data": {
      "text/plain": [
       "0.8304329004329005"
      ]
     },
     "execution_count": 74,
     "metadata": {},
     "output_type": "execute_result"
    }
   ],
   "source": [
    "roc_auc"
   ]
  },
  {
   "cell_type": "code",
   "execution_count": 75,
   "metadata": {},
   "outputs": [
    {
     "data": {
      "text/plain": [
       "{'C': 11.288378916846883, 'penalty': 'l1', 'solver': 'liblinear'}"
      ]
     },
     "execution_count": 75,
     "metadata": {},
     "output_type": "execute_result"
    }
   ],
   "source": [
    "grid_search.best_params_"
   ]
  },
  {
   "cell_type": "code",
   "execution_count": 76,
   "metadata": {},
   "outputs": [
    {
     "data": {
      "text/plain": [
       "{'C': 0.615848211066026, 'penalty': 'l1', 'solver': 'liblinear'}"
      ]
     },
     "execution_count": 76,
     "metadata": {},
     "output_type": "execute_result"
    }
   ],
   "source": [
    "grid_searchw.best_params_"
   ]
  },
  {
   "cell_type": "code",
   "execution_count": null,
   "metadata": {},
   "outputs": [],
   "source": [
    "Implementing the best parameters in the Model\n",
    "{'C': 0.615848211066026, 'penalty': 'l1', 'solver': 'liblinear'}"
   ]
  },
  {
   "cell_type": "code",
   "execution_count": 80,
   "metadata": {},
   "outputs": [
    {
     "name": "stdout",
     "output_type": "stream",
     "text": [
      "Accuracy for Logistic Regression Classifier after Univariate Feature Selection is : 79.87 %\n"
     ]
    }
   ],
   "source": [
    "from sklearn.linear_model import LogisticRegression\n",
    "from sklearn import metrics\n",
    "\n",
    "logreg_ig = LogisticRegression(C= 11.288378916846883, penalty='l1', solver= 'liblinear')\n",
    "logreg_ig.fit(X_train_i, y_train_i)\n",
    "y_pred_ig = logreg_ig.predict(X_test_i)\n",
    "print(\"Accuracy for Logistic Regression Classifier after Univariate Feature Selection is :\",round(metrics.accuracy_score(y_test_i, y_pred_ig)*100,2),\"%\")"
   ]
  },
  {
   "cell_type": "markdown",
   "metadata": {},
   "source": [
    "# Baseline Model + Missing Values Filled(mean) + Standardisation + Hyperparameter Tuning (GridSearchCV)"
   ]
  },
  {
   "cell_type": "code",
   "execution_count": 82,
   "metadata": {},
   "outputs": [
    {
     "name": "stdout",
     "output_type": "stream",
     "text": [
      "Accuracy for Logistic Regression Classifier after Univariate Feature Selection is : 82.47 %\n"
     ]
    }
   ],
   "source": [
    "from sklearn.linear_model import LogisticRegression\n",
    "from sklearn import metrics\n",
    "\n",
    "logreg_igs = LogisticRegression(C= 11.288378916846883, penalty='l1', solver= 'liblinear')\n",
    "logreg_igs.fit(X_train_sc, y_train)\n",
    "y_pred_igs = logreg_igs.predict(X_test_sc)\n",
    "print(\"Accuracy for Logistic Regression Classifier after Univariate Feature Selection is :\",round(metrics.accuracy_score(y_test, y_pred_igs)*100,2),\"%\")"
   ]
  },
  {
   "cell_type": "code",
   "execution_count": 169,
   "metadata": {},
   "outputs": [],
   "source": [
    "import pickle\n",
    "filename = 'finalized_model.sav'\n",
    "pickle.dump(logreg_igs, open(filename, 'wb')) "
   ]
  },
  {
   "cell_type": "code",
   "execution_count": null,
   "metadata": {},
   "outputs": [],
   "source": [
    "loaded_model = pickle.load(open(filename, 'rb'))\n",
    "result = loaded_model.score(X_test, Y_test)\n",
    "print(result)"
   ]
  },
  {
   "cell_type": "markdown",
   "metadata": {},
   "source": [
    "# RandomizedSearchCV"
   ]
  },
  {
   "cell_type": "code",
   "execution_count": 83,
   "metadata": {},
   "outputs": [],
   "source": [
    "from sklearn.model_selection import RandomizedSearchCV"
   ]
  },
  {
   "cell_type": "code",
   "execution_count": 84,
   "metadata": {},
   "outputs": [],
   "source": [
    "random_search=RandomizedSearchCV(classifier,param_distributions=parameters,n_iter=5,scoring='roc_auc',n_jobs=-1,cv=5,verbose=3)"
   ]
  },
  {
   "cell_type": "code",
   "execution_count": 85,
   "metadata": {},
   "outputs": [
    {
     "name": "stdout",
     "output_type": "stream",
     "text": [
      "Fitting 5 folds for each of 5 candidates, totalling 25 fits\n"
     ]
    },
    {
     "name": "stderr",
     "output_type": "stream",
     "text": [
      "[Parallel(n_jobs=-1)]: Using backend LokyBackend with 8 concurrent workers.\n",
      "[Parallel(n_jobs=-1)]: Done  19 out of  25 | elapsed:    0.1s remaining:    0.0s\n",
      "[Parallel(n_jobs=-1)]: Done  25 out of  25 | elapsed:    0.1s finished\n"
     ]
    },
    {
     "data": {
      "text/plain": [
       "RandomizedSearchCV(cv=5, estimator=LogisticRegression(), n_iter=5, n_jobs=-1,\n",
       "                   param_distributions=[{'C': array([1.00000000e-04, 2.63665090e-04, 6.95192796e-04, 1.83298071e-03,\n",
       "       4.83293024e-03, 1.27427499e-02, 3.35981829e-02, 8.85866790e-02,\n",
       "       2.33572147e-01, 6.15848211e-01, 1.62377674e+00, 4.28133240e+00,\n",
       "       1.12883789e+01, 2.97635144e+01, 7.84759970e+01, 2.06913808e+02,\n",
       "       5.45559478e+02, 1.43844989e+03, 3.79269019e+03, 1.00000000e+04]),\n",
       "                                         'penalty': ['l1', 'l2'],\n",
       "                                         'solver': ['liblinear']}],\n",
       "                   scoring='roc_auc', verbose=3)"
      ]
     },
     "execution_count": 85,
     "metadata": {},
     "output_type": "execute_result"
    }
   ],
   "source": [
    "random_search.fit(X,y)"
   ]
  },
  {
   "cell_type": "code",
   "execution_count": 86,
   "metadata": {},
   "outputs": [
    {
     "data": {
      "text/plain": [
       "{'solver': 'liblinear', 'penalty': 'l2', 'C': 0.23357214690901212}"
      ]
     },
     "execution_count": 86,
     "metadata": {},
     "output_type": "execute_result"
    }
   ],
   "source": [
    "random_search.best_params_"
   ]
  },
  {
   "cell_type": "code",
   "execution_count": 87,
   "metadata": {},
   "outputs": [
    {
     "name": "stdout",
     "output_type": "stream",
     "text": [
      "Accuracy for Logistic Regression Classifier after Univariate Feature Selection is : 82.47 %\n"
     ]
    }
   ],
   "source": [
    "from sklearn.linear_model import LogisticRegression\n",
    "from sklearn import metrics\n",
    "\n",
    "logreg_rs = LogisticRegression(C= 0.23357214690901212, penalty='l2', solver= 'liblinear')\n",
    "logreg_rs.fit(X_train_sc, y_train)\n",
    "y_pred_rs = logreg_rs.predict(X_test_sc)\n",
    "print(\"Accuracy for Logistic Regression Classifier after Univariate Feature Selection is :\",round(metrics.accuracy_score(y_test, y_pred_rs)*100,2),\"%\")"
   ]
  },
  {
   "cell_type": "markdown",
   "metadata": {},
   "source": [
    "# Classification Metrics"
   ]
  },
  {
   "cell_type": "code",
   "execution_count": 88,
   "metadata": {},
   "outputs": [
    {
     "name": "stdout",
     "output_type": "stream",
     "text": [
      "[[88 12]\n",
      " [15 39]]\n"
     ]
    }
   ],
   "source": [
    "from sklearn.metrics import confusion_matrix,classification_report,accuracy_score\n",
    "print(metrics.confusion_matrix(y_test, y_pred_igs))"
   ]
  },
  {
   "cell_type": "code",
   "execution_count": 89,
   "metadata": {},
   "outputs": [
    {
     "name": "stdout",
     "output_type": "stream",
     "text": [
      "              precision    recall  f1-score   support\n",
      "\n",
      "           0      0.854     0.880     0.867       100\n",
      "           1      0.765     0.722     0.743        54\n",
      "\n",
      "    accuracy                          0.825       154\n",
      "   macro avg      0.810     0.801     0.805       154\n",
      "weighted avg      0.823     0.825     0.823       154\n",
      "\n"
     ]
    }
   ],
   "source": [
    "print(metrics.classification_report(y_test, y_pred_igs, digits=3))"
   ]
  },
  {
   "cell_type": "markdown",
   "metadata": {},
   "source": [
    "# Confusion Matrix"
   ]
  },
  {
   "cell_type": "code",
   "execution_count": 91,
   "metadata": {},
   "outputs": [],
   "source": [
    "from sklearn.metrics import confusion_matrix\n",
    "cf_matrix = confusion_matrix(y_test, y_pred_igs)"
   ]
  },
  {
   "cell_type": "code",
   "execution_count": 93,
   "metadata": {},
   "outputs": [
    {
     "data": {
      "text/plain": [
       "<matplotlib.axes._subplots.AxesSubplot at 0x20918ac9c88>"
      ]
     },
     "execution_count": 93,
     "metadata": {},
     "output_type": "execute_result"
    },
    {
     "data": {
      "image/png": "[encoded data removed]",
      "text/plain": [
       "<Figure size 576x576 with 2 Axes>"
      ]
     },
     "metadata": {
      "needs_background": "light"
     },
     "output_type": "display_data"
    }
   ],
   "source": [
    "import seaborn as sns\n",
    "plt.rcParams[\"figure.figsize\"] = (8,8)\n",
    "\n",
    "sns.heatmap(cf_matrix, annot=True)"
   ]
  },
  {
   "cell_type": "code",
   "execution_count": 94,
   "metadata": {},
   "outputs": [
    {
     "name": "stdout",
     "output_type": "stream",
     "text": [
      "Logistic Regression: AUROC = 0.801\n"
     ]
    }
   ],
   "source": [
    "# Print AUROC scores\n",
    "from sklearn.metrics import roc_curve, roc_auc_score\n",
    "r_auc = roc_auc_score(y_test, y_pred_igs)\n",
    "print('Logistic Regression: AUROC = %.3f' % (r_auc))"
   ]
  },
  {
   "cell_type": "code",
   "execution_count": 95,
   "metadata": {},
   "outputs": [],
   "source": [
    "# Calculate ROC curve\n",
    "\n",
    "r_fpr, r_tpr, _ = roc_curve(y_test, y_pred_igs)"
   ]
  },
  {
   "cell_type": "markdown",
   "metadata": {},
   "source": [
    "# Plot the ROC curve"
   ]
  },
  {
   "cell_type": "code",
   "execution_count": 96,
   "metadata": {},
   "outputs": [
    {
     "data": {
      "image/png": "[encoded data removed]",
      "text/plain": [
       "<Figure size 576x576 with 1 Axes>"
      ]
     },
     "metadata": {
      "needs_background": "light"
     },
     "output_type": "display_data"
    }
   ],
   "source": [
    "import matplotlib.pyplot as plt\n",
    "plt.plot(r_fpr, r_tpr, linestyle='--', label=' Logistic Regression (AUROC = %0.3f)' % r_auc)\n",
    "\n",
    "\n",
    "# Title\n",
    "plt.title('ROC Plot')\n",
    "# Axis labels\n",
    "plt.xlabel('False Positive Rate')\n",
    "plt.ylabel('True Positive Rate')\n",
    "# Show legend\n",
    "plt.legend() # \n",
    "# Show plot\n",
    "plt.rcParams[\"figure.figsize\"] = (20,16)\n",
    "plt.show()"
   ]
  }
 ],
 "metadata": {
  "kernelspec": {
   "display_name": "Python 3",
   "language": "python",
   "name": "python3"
  },
  "language_info": {
   "codemirror_mode": {
    "name": "ipython",
    "version": 3
   },
   "file_extension": ".py",
   "mimetype": "text/x-python",
   "name": "python",
   "nbconvert_exporter": "python",
   "pygments_lexer": "ipython3",
   "version": "3.7.6"
  }
 },
 "nbformat": 4,
 "nbformat_minor": 4
}
